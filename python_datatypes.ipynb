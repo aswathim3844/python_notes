{
  "nbformat": 4,
  "nbformat_minor": 0,
  "metadata": {
    "colab": {
      "provenance": [],
      "authorship_tag": "ABX9TyOMPGdHaHwMCusLdZT5guWS",
      "include_colab_link": true
    },
    "kernelspec": {
      "name": "python3",
      "display_name": "Python 3"
    },
    "language_info": {
      "name": "python"
    }
  },
  "cells": [
    {
      "cell_type": "markdown",
      "metadata": {
        "id": "view-in-github",
        "colab_type": "text"
      },
      "source": [
        "<a href=\"https://colab.research.google.com/github/aswathim3844/python_notes/blob/main/python_datatypes.ipynb\" target=\"_parent\"><img src=\"https://colab.research.google.com/assets/colab-badge.svg\" alt=\"Open In Colab\"/></a>"
      ]
    },
    {
      "cell_type": "markdown",
      "source": [
        "data types of python\n",
        "\n",
        "NUMERIC\n",
        "\n",
        "*   INTEGER\n",
        "*   float\n",
        "*   complex\n",
        "\n",
        "TEXT\n",
        "*   string\n",
        "\n",
        "SEQUENCE\n",
        "\n",
        "*  LIST [ ]\n",
        "   can include any type of data ,\n",
        "   modifiable,\n",
        "   mutable,\n",
        "   can use index\n",
        "\n",
        "\n",
        "* tuple ( )\n",
        "  Immutable,\n",
        "  can include any type of data,\n",
        "  can use index\n",
        "\n",
        "\n",
        "\n",
        "* RANGE :- range(start,stop,step),\n",
        "exclude stop value\n",
        "\n",
        "MAPPING\n",
        "\n",
        "\n",
        "*   Dictionary  {key1:value1, key2:value2}\n",
        "\n",
        "\n",
        "SET { }\n",
        "\n",
        "\n",
        "*   can contain any type of values, but should be unique , mutable\n",
        "\n",
        "None\n",
        "\n",
        "BOOLEAN\n",
        "\n",
        "\n",
        "\n",
        "\n",
        "\n",
        "\n",
        "\n",
        "\n",
        "\n",
        "\n",
        "\n",
        "\n",
        "\n"
      ],
      "metadata": {
        "id": "yoXpNF4jORZl"
      }
    },
    {
      "cell_type": "code",
      "execution_count": null,
      "metadata": {
        "colab": {
          "base_uri": "https://localhost:8080/"
        },
        "id": "0jO3V8D3Knbq",
        "outputId": "c362b228-4dfc-4bfc-cbe9-7a19fb9c098d"
      },
      "outputs": [
        {
          "output_type": "stream",
          "name": "stdout",
          "text": [
            "2\n"
          ]
        }
      ],
      "source": [
        "age =2\n",
        "print(age)"
      ]
    },
    {
      "cell_type": "code",
      "source": [
        "print(100)"
      ],
      "metadata": {
        "colab": {
          "base_uri": "https://localhost:8080/"
        },
        "id": "IqHHZoH6LEKd",
        "outputId": "70b8801a-eb19-4b2c-b3cf-d6ab0a78a8de"
      },
      "execution_count": null,
      "outputs": [
        {
          "output_type": "stream",
          "name": "stdout",
          "text": [
            "100\n"
          ]
        }
      ]
    },
    {
      "cell_type": "code",
      "source": [
        "type(age)"
      ],
      "metadata": {
        "colab": {
          "base_uri": "https://localhost:8080/"
        },
        "id": "XucLwwvPLJAW",
        "outputId": "972860b0-39dd-46c9-8a82-b86453bab83b"
      },
      "execution_count": null,
      "outputs": [
        {
          "output_type": "execute_result",
          "data": {
            "text/plain": [
              "int"
            ]
          },
          "metadata": {},
          "execution_count": 7
        }
      ]
    },
    {
      "cell_type": "markdown",
      "source": [],
      "metadata": {
        "id": "GvS4wIk2PMLj"
      }
    },
    {
      "cell_type": "code",
      "source": [],
      "metadata": {
        "id": "k9-F_ecsPMFK"
      },
      "execution_count": null,
      "outputs": []
    },
    {
      "cell_type": "code",
      "source": [
        "list1=[1,2,'list']\n",
        "list1"
      ],
      "metadata": {
        "colab": {
          "base_uri": "https://localhost:8080/"
        },
        "id": "YTmKUQ4ILs9_",
        "outputId": "7269ed0b-8674-4089-db41-1cc4f2b93c52"
      },
      "execution_count": null,
      "outputs": [
        {
          "output_type": "execute_result",
          "data": {
            "text/plain": [
              "[1, 2, 'list']"
            ]
          },
          "metadata": {},
          "execution_count": 8
        }
      ]
    },
    {
      "cell_type": "code",
      "source": [],
      "metadata": {
        "id": "i_BWCaMnPopK"
      },
      "execution_count": null,
      "outputs": []
    },
    {
      "cell_type": "code",
      "source": [
        "list1.append(56)"
      ],
      "metadata": {
        "id": "ibhGu0HnPpVa"
      },
      "execution_count": null,
      "outputs": []
    },
    {
      "cell_type": "code",
      "source": [
        "type(list1)"
      ],
      "metadata": {
        "colab": {
          "base_uri": "https://localhost:8080/"
        },
        "id": "XlL5H1a6PzwW",
        "outputId": "fd7953e7-61da-4eef-80d3-b5aab69eb72a"
      },
      "execution_count": null,
      "outputs": [
        {
          "output_type": "execute_result",
          "data": {
            "text/plain": [
              "list"
            ]
          },
          "metadata": {},
          "execution_count": 9
        }
      ]
    },
    {
      "cell_type": "code",
      "source": [
        "tuple1=(1,2,'list')"
      ],
      "metadata": {
        "id": "rKwheiDwP_Cf"
      },
      "execution_count": null,
      "outputs": []
    },
    {
      "cell_type": "code",
      "source": [
        "list(range(10))"
      ],
      "metadata": {
        "colab": {
          "base_uri": "https://localhost:8080/"
        },
        "id": "Vneq3mCdQzSI",
        "outputId": "c1467636-8838-4ca3-9a90-6d6ca4dfc7eb"
      },
      "execution_count": null,
      "outputs": [
        {
          "output_type": "execute_result",
          "data": {
            "text/plain": [
              "[0, 1, 2, 3, 4, 5, 6, 7, 8, 9]"
            ]
          },
          "metadata": {},
          "execution_count": 11
        }
      ]
    },
    {
      "cell_type": "code",
      "source": [
        "list(range(2,5))"
      ],
      "metadata": {
        "colab": {
          "base_uri": "https://localhost:8080/"
        },
        "id": "HQ_MBYABRQeB",
        "outputId": "1fa5da8f-a2c4-4745-cfb2-ab672470fe0a"
      },
      "execution_count": null,
      "outputs": [
        {
          "output_type": "execute_result",
          "data": {
            "text/plain": [
              "[2, 3, 4]"
            ]
          },
          "metadata": {},
          "execution_count": 12
        }
      ]
    },
    {
      "cell_type": "code",
      "source": [
        "list(range(2,50,2))"
      ],
      "metadata": {
        "colab": {
          "base_uri": "https://localhost:8080/"
        },
        "id": "BLBUwThYRiUx",
        "outputId": "8dfc9737-ee45-4fa9-c8f6-bd4478bd16bf"
      },
      "execution_count": null,
      "outputs": [
        {
          "output_type": "execute_result",
          "data": {
            "text/plain": [
              "[2,\n",
              " 4,\n",
              " 6,\n",
              " 8,\n",
              " 10,\n",
              " 12,\n",
              " 14,\n",
              " 16,\n",
              " 18,\n",
              " 20,\n",
              " 22,\n",
              " 24,\n",
              " 26,\n",
              " 28,\n",
              " 30,\n",
              " 32,\n",
              " 34,\n",
              " 36,\n",
              " 38,\n",
              " 40,\n",
              " 42,\n",
              " 44,\n",
              " 46,\n",
              " 48]"
            ]
          },
          "metadata": {},
          "execution_count": 13
        }
      ]
    },
    {
      "cell_type": "code",
      "source": [
        "list(range(1,10,2))#printing odd values"
      ],
      "metadata": {
        "colab": {
          "base_uri": "https://localhost:8080/"
        },
        "id": "OmaqMW4CRsnm",
        "outputId": "a5131228-46fb-419e-c035-b7ddf70d1dd9"
      },
      "execution_count": null,
      "outputs": [
        {
          "output_type": "execute_result",
          "data": {
            "text/plain": [
              "[1, 3, 5, 7, 9]"
            ]
          },
          "metadata": {},
          "execution_count": 14
        }
      ]
    },
    {
      "cell_type": "code",
      "source": [
        "list(range(0,10,2)) #printing even values"
      ],
      "metadata": {
        "colab": {
          "base_uri": "https://localhost:8080/"
        },
        "id": "4V7SfCaFSL8m",
        "outputId": "1f357fd6-7126-4f99-ab28-653f9048dbf5"
      },
      "execution_count": null,
      "outputs": [
        {
          "output_type": "execute_result",
          "data": {
            "text/plain": [
              "[0, 2, 4, 6, 8]"
            ]
          },
          "metadata": {},
          "execution_count": 15
        }
      ]
    },
    {
      "cell_type": "code",
      "source": [
        "list(range(50,10,-2)) #IN REVERSE ORDER"
      ],
      "metadata": {
        "colab": {
          "base_uri": "https://localhost:8080/"
        },
        "id": "FgeT-m8USd8g",
        "outputId": "d77184e0-9fa5-4d4c-c8e3-bcf8b736bc8a"
      },
      "execution_count": null,
      "outputs": [
        {
          "output_type": "execute_result",
          "data": {
            "text/plain": [
              "[50,\n",
              " 48,\n",
              " 46,\n",
              " 44,\n",
              " 42,\n",
              " 40,\n",
              " 38,\n",
              " 36,\n",
              " 34,\n",
              " 32,\n",
              " 30,\n",
              " 28,\n",
              " 26,\n",
              " 24,\n",
              " 22,\n",
              " 20,\n",
              " 18,\n",
              " 16,\n",
              " 14,\n",
              " 12]"
            ]
          },
          "metadata": {},
          "execution_count": 16
        }
      ]
    },
    {
      "cell_type": "code",
      "source": [
        "details ={'batch':7,'course':'dsa'}"
      ],
      "metadata": {
        "id": "ur1f68k6S-Cq"
      },
      "execution_count": null,
      "outputs": []
    },
    {
      "cell_type": "code",
      "source": [
        "details"
      ],
      "metadata": {
        "colab": {
          "base_uri": "https://localhost:8080/"
        },
        "id": "hm6phHxzUM_8",
        "outputId": "ad4c8a07-79bf-4f90-f464-2b09578ab706"
      },
      "execution_count": null,
      "outputs": [
        {
          "output_type": "execute_result",
          "data": {
            "text/plain": [
              "{'batch': 7, 'course': 'dsa'}"
            ]
          },
          "metadata": {},
          "execution_count": 18
        }
      ]
    },
    {
      "cell_type": "code",
      "source": [
        "set1={1,2,2,3,.4,'or'}"
      ],
      "metadata": {
        "id": "thtoJ2uWVTVt"
      },
      "execution_count": null,
      "outputs": []
    },
    {
      "cell_type": "code",
      "source": [
        "set1"
      ],
      "metadata": {
        "id": "pVCGu2b2Vl64"
      },
      "execution_count": null,
      "outputs": []
    },
    {
      "cell_type": "code",
      "source": [
        "3.==3.0"
      ],
      "metadata": {
        "id": "37jxs07jVoIg"
      },
      "execution_count": null,
      "outputs": []
    },
    {
      "cell_type": "code",
      "source": [
        "year_of_birth =1990\n",
        "\n",
        "age = 2025 -year_of_birth\n",
        "print(age)"
      ],
      "metadata": {
        "id": "JtFeocOqYHRZ"
      },
      "execution_count": null,
      "outputs": []
    },
    {
      "cell_type": "code",
      "source": [
        "bio_data ={\"name\":\"Aswathi m\",\\\n",
        "           \"age\":24,\"location\":\"Alapuzha\"}\n",
        "bio_data"
      ],
      "metadata": {
        "id": "J3iaRb6mYtWN"
      },
      "execution_count": null,
      "outputs": []
    },
    {
      "cell_type": "code",
      "source": [
        "to_do_list =[\"drink water\",\"learn python\",'wash clothes']\n",
        "print(to_do_list)"
      ],
      "metadata": {
        "id": "Y-J1FYIlZe13",
        "outputId": "8e349f2d-5cd8-4d2f-9229-1ee960d4dbb4",
        "colab": {
          "base_uri": "https://localhost:8080/"
        }
      },
      "execution_count": null,
      "outputs": [
        {
          "output_type": "stream",
          "name": "stdout",
          "text": [
            "['drink water', 'learn python', 'wash clothes']\n"
          ]
        }
      ]
    },
    {
      "cell_type": "code",
      "source": [],
      "metadata": {
        "id": "uCwclzv4u1-I"
      },
      "execution_count": null,
      "outputs": []
    },
    {
      "cell_type": "code",
      "source": [
        "odd_numbers=list(range(99,0,-2))\n",
        "odd_numbers"
      ],
      "metadata": {
        "id": "F-qdaibAbAja",
        "outputId": "9ed76186-72c4-4d02-d951-9302770bf470",
        "colab": {
          "base_uri": "https://localhost:8080/"
        }
      },
      "execution_count": null,
      "outputs": [
        {
          "output_type": "execute_result",
          "data": {
            "text/plain": [
              "[99,\n",
              " 97,\n",
              " 95,\n",
              " 93,\n",
              " 91,\n",
              " 89,\n",
              " 87,\n",
              " 85,\n",
              " 83,\n",
              " 81,\n",
              " 79,\n",
              " 77,\n",
              " 75,\n",
              " 73,\n",
              " 71,\n",
              " 69,\n",
              " 67,\n",
              " 65,\n",
              " 63,\n",
              " 61,\n",
              " 59,\n",
              " 57,\n",
              " 55,\n",
              " 53,\n",
              " 51,\n",
              " 49,\n",
              " 47,\n",
              " 45,\n",
              " 43,\n",
              " 41,\n",
              " 39,\n",
              " 37,\n",
              " 35,\n",
              " 33,\n",
              " 31,\n",
              " 29,\n",
              " 27,\n",
              " 25,\n",
              " 23,\n",
              " 21,\n",
              " 19,\n",
              " 17,\n",
              " 15,\n",
              " 13,\n",
              " 11,\n",
              " 9,\n",
              " 7,\n",
              " 5,\n",
              " 3,\n",
              " 1]"
            ]
          },
          "metadata": {},
          "execution_count": 2
        }
      ]
    },
    {
      "cell_type": "code",
      "source": [
        "to_do_list[1] #print second item"
      ],
      "metadata": {
        "id": "DDZZj6enbO1m",
        "outputId": "e3897f32-db54-4450-eef2-af0da64c082a",
        "colab": {
          "base_uri": "https://localhost:8080/",
          "height": 36
        }
      },
      "execution_count": null,
      "outputs": [
        {
          "output_type": "execute_result",
          "data": {
            "text/plain": [
              "'learn python'"
            ],
            "application/vnd.google.colaboratory.intrinsic+json": {
              "type": "string"
            }
          },
          "metadata": {},
          "execution_count": 3
        }
      ]
    },
    {
      "cell_type": "code",
      "source": [],
      "metadata": {
        "id": "XH2Z1IVTVmQG"
      },
      "execution_count": null,
      "outputs": []
    },
    {
      "cell_type": "code",
      "source": [
        "to_do_list[-2] #print second last item"
      ],
      "metadata": {
        "colab": {
          "base_uri": "https://localhost:8080/",
          "height": 36
        },
        "id": "ocryKSBMcOHP",
        "outputId": "9170c9cc-8e2a-4d04-b5d3-1bd83c108afc"
      },
      "execution_count": null,
      "outputs": [
        {
          "output_type": "execute_result",
          "data": {
            "text/plain": [
              "'learn python'"
            ],
            "application/vnd.google.colaboratory.intrinsic+json": {
              "type": "string"
            }
          },
          "metadata": {},
          "execution_count": 4
        }
      ]
    },
    {
      "cell_type": "code",
      "source": [
        "name=input()\n",
        "len(name)\n",
        "\n"
      ],
      "metadata": {
        "id": "Q8tZVeWbcZol",
        "outputId": "0920e441-cb3b-477b-b0a8-b9b84328ab19",
        "colab": {
          "base_uri": "https://localhost:8080/"
        }
      },
      "execution_count": null,
      "outputs": [
        {
          "name": "stdout",
          "output_type": "stream",
          "text": [
            "aswathi\n"
          ]
        },
        {
          "output_type": "execute_result",
          "data": {
            "text/plain": [
              "7"
            ]
          },
          "metadata": {},
          "execution_count": 5
        }
      ]
    },
    {
      "cell_type": "code",
      "source": [
        "type(name)"
      ],
      "metadata": {
        "colab": {
          "base_uri": "https://localhost:8080/"
        },
        "id": "Wye-FynbdE3y",
        "outputId": "29586d32-19b8-4cf3-8b3b-4633213669b6"
      },
      "execution_count": null,
      "outputs": [
        {
          "output_type": "execute_result",
          "data": {
            "text/plain": [
              "str"
            ]
          },
          "metadata": {},
          "execution_count": 6
        }
      ]
    },
    {
      "cell_type": "code",
      "source": [
        "age=int(input())\n",
        "type(age)"
      ],
      "metadata": {
        "id": "FRkpa079d44p"
      },
      "execution_count": null,
      "outputs": []
    },
    {
      "cell_type": "code",
      "source": [
        "number1=int(input())\n",
        "number2=int(input())\n",
        "addition=print(number1+number2)\n",
        "substraction=print(number1-number2)\n",
        "multiplication=print(number1*number2)\n",
        "division=print(number1/number2)"
      ],
      "metadata": {
        "id": "NlM4XLjBeSF5"
      },
      "execution_count": null,
      "outputs": []
    },
    {
      "cell_type": "code",
      "source": [
        "number1=int(input())\n",
        "number2=int(input())\n",
        "addition=(number1+number2)\n",
        "substraction=(number1-number2)\n",
        "multiplication=(number1*number2)\n",
        "division=(number1/number2)\n",
        "\n",
        "print(addition,\n",
        "      substraction,\n",
        "      multiplication,\n",
        "      division)"
      ],
      "metadata": {
        "id": "pt27Kqwcewvs"
      },
      "execution_count": null,
      "outputs": []
    },
    {
      "cell_type": "code",
      "source": [
        "year_of_birth =int(input('enter your year of birth '))\n",
        "\n",
        "age = 2025 -year_of_birth\n",
        "print(f'you are born in {year_of_birth} and your age is {age}')\n"
      ],
      "metadata": {
        "id": "1Mg153KVgkQZ"
      },
      "execution_count": null,
      "outputs": []
    },
    {
      "cell_type": "code",
      "source": [
        "a=85\n",
        "b=5\n",
        "c=a**b\n",
        "print(c)\n"
      ],
      "metadata": {
        "colab": {
          "base_uri": "https://localhost:8080/"
        },
        "id": "BiAJW0K7hpsM",
        "outputId": "d727fcee-f358-4636-89f1-944d4564f92f"
      },
      "execution_count": null,
      "outputs": [
        {
          "output_type": "stream",
          "name": "stdout",
          "text": [
            "4437053125\n"
          ]
        }
      ]
    },
    {
      "cell_type": "code",
      "source": [
        "num=789456\n",
        "den=564\n",
        "result= num//den\n",
        "print(result)"
      ],
      "metadata": {
        "colab": {
          "base_uri": "https://localhost:8080/"
        },
        "id": "3sb96IBEoe2o",
        "outputId": "53df410d-60af-492b-f09d-1109700187fc"
      },
      "execution_count": null,
      "outputs": [
        {
          "output_type": "stream",
          "name": "stdout",
          "text": [
            "1399\n"
          ]
        }
      ]
    },
    {
      "cell_type": "code",
      "source": [
        "num**.5"
      ],
      "metadata": {
        "colab": {
          "base_uri": "https://localhost:8080/"
        },
        "id": "Ym5a854VoqcW",
        "outputId": "7a5de7d7-78b2-4102-8156-6cb9ad33ac8e"
      },
      "execution_count": null,
      "outputs": [
        {
          "output_type": "execute_result",
          "data": {
            "text/plain": [
              "888.5133651217634"
            ]
          },
          "metadata": {},
          "execution_count": 24
        }
      ]
    },
    {
      "cell_type": "code",
      "source": [],
      "metadata": {
        "id": "DL4WnsAHo65v"
      },
      "execution_count": null,
      "outputs": []
    },
    {
      "cell_type": "markdown",
      "source": [
        "operators\n",
        "\n",
        "arimetic\n",
        "\n",
        "\n",
        "\n",
        "\n",
        "logical :- and ,or, not\n",
        "\n",
        "\n",
        "\n",
        "\n",
        "\n",
        "assignment :- ==,!=\n",
        "\n",
        "\n",
        "membership operator :- IN,NOT IN\n",
        "\n",
        "\n",
        "identity operator :- is ,isnot"
      ],
      "metadata": {
        "id": "HabtM2j1p6Qw"
      }
    },
    {
      "cell_type": "code",
      "source": [
        "print(1 in [1,2,3,4])"
      ],
      "metadata": {
        "colab": {
          "base_uri": "https://localhost:8080/"
        },
        "id": "QAvbJjoZqZSG",
        "outputId": "36060f5e-3e9e-4b87-fb64-98ba1bc21097"
      },
      "execution_count": null,
      "outputs": [
        {
          "output_type": "stream",
          "name": "stdout",
          "text": [
            "True\n"
          ]
        }
      ]
    },
    {
      "cell_type": "code",
      "source": [
        "print(1 not in[1,2,3,4])"
      ],
      "metadata": {
        "colab": {
          "base_uri": "https://localhost:8080/"
        },
        "id": "vjPDOr_Hq0OO",
        "outputId": "a6a63065-1388-4fce-f1d6-11e2f9ef9ff2"
      },
      "execution_count": null,
      "outputs": [
        {
          "output_type": "stream",
          "name": "stdout",
          "text": [
            "False\n"
          ]
        }
      ]
    },
    {
      "cell_type": "code",
      "source": [
        "\"b\" in 'malayalam'"
      ],
      "metadata": {
        "colab": {
          "base_uri": "https://localhost:8080/"
        },
        "id": "EhqoDYE-q5Kp",
        "outputId": "2f13c7f2-fd0f-471b-bf6e-f1e7e87a163b"
      },
      "execution_count": null,
      "outputs": [
        {
          "output_type": "execute_result",
          "data": {
            "text/plain": [
              "False"
            ]
          },
          "metadata": {},
          "execution_count": 27
        }
      ]
    },
    {
      "cell_type": "code",
      "source": [
        "'ay' in 'malayalam'"
      ],
      "metadata": {
        "colab": {
          "base_uri": "https://localhost:8080/"
        },
        "id": "9bkbCQ6Bq--R",
        "outputId": "ef5c78eb-e3fe-4c23-c4e2-8ffe6b4c064c"
      },
      "execution_count": null,
      "outputs": [
        {
          "output_type": "execute_result",
          "data": {
            "text/plain": [
              "True"
            ]
          },
          "metadata": {},
          "execution_count": 28
        }
      ]
    },
    {
      "cell_type": "code",
      "source": [
        "'sa' in 'aswathi'"
      ],
      "metadata": {
        "colab": {
          "base_uri": "https://localhost:8080/"
        },
        "id": "rS1bFUzrrEvk",
        "outputId": "9853411d-775c-4ff5-8fc4-f24acc5aee5e"
      },
      "execution_count": null,
      "outputs": [
        {
          "output_type": "execute_result",
          "data": {
            "text/plain": [
              "False"
            ]
          },
          "metadata": {},
          "execution_count": 29
        }
      ]
    },
    {
      "cell_type": "code",
      "source": [
        "a=10\n",
        "b=10\n",
        "print(a is b)\n",
        "\n",
        "a=10\n",
        "b=12\n",
        "print(a is b)\n",
        "\n",
        "a=10\n",
        "b=10\n",
        "print(a is not b)"
      ],
      "metadata": {
        "colab": {
          "base_uri": "https://localhost:8080/"
        },
        "id": "pswzBFSMrNVS",
        "outputId": "ef63fefe-038d-4147-aaa5-bb6a97b63bb8"
      },
      "execution_count": null,
      "outputs": [
        {
          "output_type": "stream",
          "name": "stdout",
          "text": [
            "True\n",
            "False\n",
            "False\n"
          ]
        }
      ]
    },
    {
      "cell_type": "code",
      "source": [
        "'hello '*5 # operator overriding"
      ],
      "metadata": {
        "colab": {
          "base_uri": "https://localhost:8080/",
          "height": 36
        },
        "id": "pqKsJG5wro9-",
        "outputId": "6215d911-6f04-4fe6-c58d-a42848529ad3"
      },
      "execution_count": null,
      "outputs": [
        {
          "output_type": "execute_result",
          "data": {
            "text/plain": [
              "'hello hello hello hello hello '"
            ],
            "application/vnd.google.colaboratory.intrinsic+json": {
              "type": "string"
            }
          },
          "metadata": {},
          "execution_count": 31
        }
      ]
    },
    {
      "cell_type": "code",
      "source": [
        "'welcome to ' + 'dsa class'"
      ],
      "metadata": {
        "colab": {
          "base_uri": "https://localhost:8080/",
          "height": 36
        },
        "id": "S1eapgi9sIME",
        "outputId": "a0e7dec8-8d87-44bb-b5c8-c0c34d5b0266"
      },
      "execution_count": null,
      "outputs": [
        {
          "output_type": "execute_result",
          "data": {
            "text/plain": [
              "'welcome to dsa class'"
            ],
            "application/vnd.google.colaboratory.intrinsic+json": {
              "type": "string"
            }
          },
          "metadata": {},
          "execution_count": 32
        }
      ]
    },
    {
      "cell_type": "code",
      "source": [
        "greetings = input()\n",
        "no = int(input())\n",
        "print((greetings+ '\\n')*no)\n"
      ],
      "metadata": {
        "colab": {
          "base_uri": "https://localhost:8080/"
        },
        "id": "jfjfWzx0sStn",
        "outputId": "cf35d742-7b1c-4b7a-d4c2-697f039fd78c"
      },
      "execution_count": null,
      "outputs": [
        {
          "output_type": "stream",
          "name": "stdout",
          "text": [
            "hey  \n",
            "5\n",
            "hey  \n",
            "hey  \n",
            "hey  \n",
            "hey  \n",
            "hey  \n",
            "\n"
          ]
        }
      ]
    },
    {
      "cell_type": "code",
      "source": [
        "'ict academy of kerala'[4:11:2]\n"
      ],
      "metadata": {
        "colab": {
          "base_uri": "https://localhost:8080/",
          "height": 36
        },
        "id": "lCp_0nTgs363",
        "outputId": "fc9d8dbf-a31c-41df-e48a-5105239c829b"
      },
      "execution_count": null,
      "outputs": [
        {
          "output_type": "execute_result",
          "data": {
            "text/plain": [
              "'aaey'"
            ],
            "application/vnd.google.colaboratory.intrinsic+json": {
              "type": "string"
            }
          },
          "metadata": {},
          "execution_count": 34
        }
      ]
    },
    {
      "cell_type": "code",
      "source": [
        "'ict academy of kerala'.split(\"a\")"
      ],
      "metadata": {
        "colab": {
          "base_uri": "https://localhost:8080/"
        },
        "id": "mblBZ5BevWGy",
        "outputId": "fb165fc8-9646-4add-d6de-ad8f0ca41bb2"
      },
      "execution_count": null,
      "outputs": [
        {
          "output_type": "execute_result",
          "data": {
            "text/plain": [
              "['ict ', 'c', 'demy of ker', 'l', '']"
            ]
          },
          "metadata": {},
          "execution_count": 35
        }
      ]
    },
    {
      "cell_type": "code",
      "source": [
        "#write a code to print(true/false) a given string is palindrome\n",
        "\n",
        "string=input()\n",
        "string1=reversed(string)\n",
        "print(string is string1)\n",
        "\n"
      ],
      "metadata": {
        "colab": {
          "base_uri": "https://localhost:8080/"
        },
        "id": "8PwgpbflvlkA",
        "outputId": "19b091d0-27a2-47f8-f4cd-cfce5573ccfa"
      },
      "execution_count": null,
      "outputs": [
        {
          "output_type": "stream",
          "name": "stdout",
          "text": [
            "malayalam\n",
            "False\n"
          ]
        }
      ]
    },
    {
      "cell_type": "code",
      "source": [
        "string = input()\n",
        "reverse= string[::-1]\n",
        "print(string == reverse )"
      ],
      "metadata": {
        "colab": {
          "base_uri": "https://localhost:8080/"
        },
        "id": "BdhP-ZR2xpxZ",
        "outputId": "29edccae-a951-4e30-ee77-fe937eeb9364"
      },
      "execution_count": null,
      "outputs": [
        {
          "output_type": "stream",
          "name": "stdout",
          "text": [
            "malayalam\n",
            "True\n"
          ]
        }
      ]
    },
    {
      "cell_type": "code",
      "source": [
        "#write code to print a 4 digit otp in words\n",
        "\n",
        "digit_words={0:\"zero\",1:\"one\",2:\"two\",3:\"three\",4:\"four\",5:'five'}\n",
        "digit =int(input(\"enter otp : \"))\n",
        "print(digit_words[digit])"
      ],
      "metadata": {
        "colab": {
          "base_uri": "https://localhost:8080/",
          "height": 193
        },
        "id": "qu1zRVIcw3ii",
        "outputId": "2c63f12d-128f-49c5-ddc9-6f59de6c55c7"
      },
      "execution_count": null,
      "outputs": [
        {
          "name": "stdout",
          "output_type": "stream",
          "text": [
            "enter otp : 1254\n"
          ]
        },
        {
          "output_type": "error",
          "ename": "KeyError",
          "evalue": "1254",
          "traceback": [
            "\u001b[0;31m---------------------------------------------------------------------------\u001b[0m",
            "\u001b[0;31mKeyError\u001b[0m                                  Traceback (most recent call last)",
            "\u001b[0;32m/tmp/ipython-input-2488154278.py\u001b[0m in \u001b[0;36m<cell line: 0>\u001b[0;34m()\u001b[0m\n\u001b[1;32m      3\u001b[0m \u001b[0mdigit_words\u001b[0m\u001b[0;34m=\u001b[0m\u001b[0;34m{\u001b[0m\u001b[0;36m0\u001b[0m\u001b[0;34m:\u001b[0m\u001b[0;34m\"zero\"\u001b[0m\u001b[0;34m,\u001b[0m\u001b[0;36m1\u001b[0m\u001b[0;34m:\u001b[0m\u001b[0;34m\"one\"\u001b[0m\u001b[0;34m,\u001b[0m\u001b[0;36m2\u001b[0m\u001b[0;34m:\u001b[0m\u001b[0;34m\"two\"\u001b[0m\u001b[0;34m,\u001b[0m\u001b[0;36m3\u001b[0m\u001b[0;34m:\u001b[0m\u001b[0;34m\"three\"\u001b[0m\u001b[0;34m,\u001b[0m\u001b[0;36m4\u001b[0m\u001b[0;34m:\u001b[0m\u001b[0;34m\"four\"\u001b[0m\u001b[0;34m,\u001b[0m\u001b[0;36m5\u001b[0m\u001b[0;34m:\u001b[0m\u001b[0;34m'five'\u001b[0m\u001b[0;34m}\u001b[0m\u001b[0;34m\u001b[0m\u001b[0;34m\u001b[0m\u001b[0m\n\u001b[1;32m      4\u001b[0m \u001b[0mdigit\u001b[0m \u001b[0;34m=\u001b[0m\u001b[0mint\u001b[0m\u001b[0;34m(\u001b[0m\u001b[0minput\u001b[0m\u001b[0;34m(\u001b[0m\u001b[0;34m\"enter otp : \"\u001b[0m\u001b[0;34m)\u001b[0m\u001b[0;34m)\u001b[0m\u001b[0;34m\u001b[0m\u001b[0;34m\u001b[0m\u001b[0m\n\u001b[0;32m----> 5\u001b[0;31m \u001b[0mprint\u001b[0m\u001b[0;34m(\u001b[0m\u001b[0mdigit_words\u001b[0m\u001b[0;34m[\u001b[0m\u001b[0mdigit\u001b[0m\u001b[0;34m]\u001b[0m\u001b[0;34m)\u001b[0m\u001b[0;34m\u001b[0m\u001b[0;34m\u001b[0m\u001b[0m\n\u001b[0m",
            "\u001b[0;31mKeyError\u001b[0m: 1254"
          ]
        }
      ]
    },
    {
      "cell_type": "code",
      "source": [
        "words=['zero','one','two','three','four','five','six','seven','eight','nine']\n",
        "otp= input('enter OTP : ')\n",
        "print(words[int(otp[0])],words[int(otp[1])],words[int(otp[2])],\n",
        "      words[int(otp[3])])\n",
        "''',words[int(otp[4])],words[int(otp[5])],\n",
        "      words[int(otp[6])],words[int(otp[7])],words[int(otp[8])],\n",
        "      words[int(otp[9])])'''"
      ],
      "metadata": {
        "id": "mhN-0kH3a9m3"
      },
      "execution_count": null,
      "outputs": []
    },
    {
      "cell_type": "code",
      "source": [
        "words=['zero','one','two','three','four','five','six','seven','eight','nine']\n",
        "otp= input('enter OTP : ')\n",
        "print(words[int(otp[0])],words[int(otp[1])],words[int(otp[2])],\n",
        "      words[int(otp[3])],words[int(otp[4])],words[int(otp[5])],\n",
        "      words[int(otp[6])],words[int(otp[7])],words[int(otp[8])],\n",
        "      words[int(otp[9])])"
      ],
      "metadata": {
        "id": "2fVYC-lldE7q"
      },
      "execution_count": null,
      "outputs": []
    },
    {
      "cell_type": "markdown",
      "source": [],
      "metadata": {
        "id": "x7m7CkW0dCWq"
      }
    },
    {
      "cell_type": "code",
      "source": [
        "#write code to  print a 4 digit otp in words\n",
        "\n",
        "digit_words={1:\"one\",2:\"two\",3:\"three\",4:\"four\",5:'five',6:'six',7:'seven',8:'eight',9:'nine'}\n",
        "otp =(input(\"enter otp : \"))\n",
        "print(words[int(otp[0])],words[int(otp[1])],words[int(otp[2])],words[int(otp[3])])\n",
        "\n",
        "\n",
        "\n"
      ],
      "metadata": {
        "id": "LnwR0zcgzxsL"
      },
      "execution_count": null,
      "outputs": []
    },
    {
      "cell_type": "code",
      "source": [
        "\n"
      ],
      "metadata": {
        "id": "ZG28XbNt8Z5g"
      },
      "execution_count": null,
      "outputs": []
    },
    {
      "cell_type": "code",
      "source": [
        "#write code to print to a 4 digit word in digits\n",
        "word = input('Enter number in words: ').split()\n",
        "digits= {'zero':0,'one':1,'two':2,'three':3,'four':4,'five':5,'six':6,'seven':7,'eight':8,'nine':9}\n",
        "print(digits[word[0]],digits[word[1]],digits[word[2]],digits[word[3]])\n"
      ],
      "metadata": {
        "id": "ENiKzHBXeaxa"
      },
      "execution_count": null,
      "outputs": []
    },
    {
      "cell_type": "code",
      "source": [
        "a=\"89\"\n",
        "b=int(a)\n",
        "print(b)\n",
        "type(b)"
      ],
      "metadata": {
        "id": "rxIU_2MziJwj",
        "colab": {
          "base_uri": "https://localhost:8080/"
        },
        "outputId": "c425b030-c409-418c-bec6-2abe5ebddf02"
      },
      "execution_count": null,
      "outputs": [
        {
          "output_type": "stream",
          "name": "stdout",
          "text": [
            "89\n"
          ]
        },
        {
          "output_type": "execute_result",
          "data": {
            "text/plain": [
              "int"
            ]
          },
          "metadata": {},
          "execution_count": 5
        }
      ]
    },
    {
      "cell_type": "code",
      "source": [
        "c=float(a)\n",
        "print(c)\n",
        "type(c)"
      ],
      "metadata": {
        "colab": {
          "base_uri": "https://localhost:8080/"
        },
        "id": "mJ3bj4w9Sj4d",
        "outputId": "ec19a097-b5b5-4d14-f01c-2b54d269121c"
      },
      "execution_count": null,
      "outputs": [
        {
          "output_type": "stream",
          "name": "stdout",
          "text": [
            "89.0\n"
          ]
        },
        {
          "output_type": "execute_result",
          "data": {
            "text/plain": [
              "float"
            ]
          },
          "metadata": {},
          "execution_count": 6
        }
      ]
    },
    {
      "cell_type": "code",
      "source": [
        "integer=67\n",
        "string1=int(integer)\n",
        "print(string1)\n",
        "type(string1)"
      ],
      "metadata": {
        "colab": {
          "base_uri": "https://localhost:8080/"
        },
        "id": "desMCajf8tpt",
        "outputId": "4b9f96d2-9d8a-4c04-9b69-e34d955ac80c"
      },
      "execution_count": null,
      "outputs": [
        {
          "output_type": "stream",
          "name": "stdout",
          "text": [
            "67\n"
          ]
        },
        {
          "output_type": "execute_result",
          "data": {
            "text/plain": [
              "int"
            ]
          },
          "metadata": {},
          "execution_count": 7
        }
      ]
    },
    {
      "cell_type": "code",
      "source": [
        "float1=float(integer)\n",
        "print(float1)\n",
        "type(float1)"
      ],
      "metadata": {
        "colab": {
          "base_uri": "https://localhost:8080/"
        },
        "id": "gntoSQm39HKA",
        "outputId": "142e50c7-fe4b-46ac-d511-7942c2a6327a"
      },
      "execution_count": null,
      "outputs": [
        {
          "output_type": "stream",
          "name": "stdout",
          "text": [
            "67.0\n"
          ]
        },
        {
          "output_type": "execute_result",
          "data": {
            "text/plain": [
              "float"
            ]
          },
          "metadata": {},
          "execution_count": 8
        }
      ]
    },
    {
      "cell_type": "code",
      "source": [
        "list2=[\"hello\"]\n",
        "tuple2=tuple(list2)\n",
        "print(tuple2)\n",
        "type(tuple2)"
      ],
      "metadata": {
        "colab": {
          "base_uri": "https://localhost:8080/"
        },
        "id": "p1rCGW9q9WVO",
        "outputId": "e346caee-4e73-4854-a146-06c2fa649398"
      },
      "execution_count": null,
      "outputs": [
        {
          "output_type": "stream",
          "name": "stdout",
          "text": [
            "('hello',)\n"
          ]
        },
        {
          "output_type": "execute_result",
          "data": {
            "text/plain": [
              "tuple"
            ]
          },
          "metadata": {},
          "execution_count": 10
        }
      ]
    },
    {
      "cell_type": "markdown",
      "source": [
        "#KEYWORD OF PYTHON\n"
      ],
      "metadata": {
        "id": "BXC2zrMK-q5I"
      }
    },
    {
      "cell_type": "code",
      "source": [
        "import keyword\n",
        "print(keyword.kwlist)"
      ],
      "metadata": {
        "colab": {
          "base_uri": "https://localhost:8080/"
        },
        "id": "I7ghlIRG-zUv",
        "outputId": "2d2431f3-95d2-412a-da51-1aac61e0be19"
      },
      "execution_count": null,
      "outputs": [
        {
          "output_type": "stream",
          "name": "stdout",
          "text": [
            "['False', 'None', 'True', 'and', 'as', 'assert', 'async', 'await', 'break', 'class', 'continue', 'def', 'del', 'elif', 'else', 'except', 'finally', 'for', 'from', 'global', 'if', 'import', 'in', 'is', 'lambda', 'nonlocal', 'not', 'or', 'pass', 'raise', 'return', 'try', 'while', 'with', 'yield']\n"
          ]
        }
      ]
    },
    {
      "cell_type": "code",
      "source": [
        "#string join"
      ],
      "metadata": {
        "id": "Gf-33lGV-5by"
      },
      "execution_count": null,
      "outputs": []
    },
    {
      "cell_type": "code",
      "source": [
        "domain= [\"data\",\"science\"]\n",
        "\"-\".join(domain)"
      ],
      "metadata": {
        "colab": {
          "base_uri": "https://localhost:8080/",
          "height": 36
        },
        "id": "lzs3NKXB_kJ6",
        "outputId": "efdc2c2b-5217-4ca7-ddcf-55dc8b00928e"
      },
      "execution_count": null,
      "outputs": [
        {
          "output_type": "execute_result",
          "data": {
            "text/plain": [
              "'data-science'"
            ],
            "application/vnd.google.colaboratory.intrinsic+json": {
              "type": "string"
            }
          },
          "metadata": {},
          "execution_count": 14
        }
      ]
    },
    {
      "cell_type": "markdown",
      "source": [
        "#list operations\n"
      ],
      "metadata": {
        "id": "SOONx5hVC0NL"
      }
    },
    {
      "cell_type": "code",
      "source": [
        "x= [1,2,3]\n",
        "x.append(4)\n",
        "print(x)\n",
        "x.extend([5,6])\n",
        "print(x)\n",
        "x.remove(2)\n",
        "print(x)\n",
        "x.insert(0,10)\n",
        "print(x)\n",
        "x.sort( )\n",
        "print(x)\n",
        "e=x.pop(0)\n",
        "print(e,x)\n",
        "x.clear()\n",
        "print(x)"
      ],
      "metadata": {
        "colab": {
          "base_uri": "https://localhost:8080/"
        },
        "id": "p5YW8EG4_z0-",
        "outputId": "25beb896-f20b-436d-9c5d-c930e7a0375c"
      },
      "execution_count": null,
      "outputs": [
        {
          "output_type": "stream",
          "name": "stdout",
          "text": [
            "[1, 2, 3, 4]\n",
            "[1, 2, 3, 4, 5, 6]\n",
            "[1, 3, 4, 5, 6]\n",
            "[10, 1, 3, 4, 5, 6]\n",
            "[1, 3, 4, 5, 6, 10]\n",
            "1 [3, 4, 5, 6, 10]\n",
            "[]\n"
          ]
        }
      ]
    },
    {
      "cell_type": "code",
      "source": [
        "y=[1,3,5]\n",
        "print(y)\n",
        "y.append(4)\n",
        "print(y)\n",
        "y.extend([2,6])\n",
        "print(y)\n",
        "y.remove(4)\n",
        "print(y)\n",
        "y.insert(0,7)\n",
        "print(y)\n",
        "y.reverse()\n",
        "print(y)\n",
        "y.sort()\n",
        "print(y)\n",
        "x = y.pop(3)\n",
        "print(x,y)\n",
        "y.clear()\n",
        "print(y)"
      ],
      "metadata": {
        "colab": {
          "base_uri": "https://localhost:8080/"
        },
        "id": "CZnQQVmFE5hO",
        "outputId": "cc56b7ec-ac1f-4c1f-ab9a-c15a21079c1c"
      },
      "execution_count": null,
      "outputs": [
        {
          "output_type": "stream",
          "name": "stdout",
          "text": [
            "[1, 3, 5]\n",
            "[1, 3, 5, 4]\n",
            "[1, 3, 5, 4, 2, 6]\n",
            "[1, 3, 5, 2, 6]\n",
            "[7, 1, 3, 5, 2, 6]\n",
            "[6, 2, 5, 3, 1, 7]\n",
            "[1, 2, 3, 5, 6, 7]\n",
            "5 [1, 2, 3, 6, 7]\n",
            "[]\n"
          ]
        }
      ]
    },
    {
      "cell_type": "code",
      "source": [
        "#write a code to covert date format from dd/mm/yyy to mm/dd/yyyy ,dd/mm/yyyy ,yyyy/dd/mm\n",
        "entry=input(\"enter date in dd/mm/yyyy format\").split('/')\n",
        "day=entry[0]\n",
        "month=entry[1]\n",
        "year=entry[2]\n",
        "print(\"/\".join([month,day,year]))\n",
        "print(\"/\".join([day,month,year]))\n",
        "print(\"/\".join([year,day,month]))"
      ],
      "metadata": {
        "colab": {
          "base_uri": "https://localhost:8080/"
        },
        "id": "-4qA8oSbBNaB",
        "outputId": "49703700-b0b7-440e-fc41-9f185494008a"
      },
      "execution_count": null,
      "outputs": [
        {
          "output_type": "stream",
          "name": "stdout",
          "text": [
            "enter date in dd/mm/yyyy format28/05/2001\n",
            "05/28/2001\n",
            "28/05/2001\n",
            "2001/28/05\n"
          ]
        }
      ]
    },
    {
      "cell_type": "code",
      "source": [
        "print(type(5 + 5.0))"
      ],
      "metadata": {
        "id": "n3FWL8o3EuyI",
        "colab": {
          "base_uri": "https://localhost:8080/"
        },
        "outputId": "e6945f1c-914c-41ef-e97c-2650bccba01c"
      },
      "execution_count": 1,
      "outputs": [
        {
          "output_type": "stream",
          "name": "stdout",
          "text": [
            "<class 'float'>\n"
          ]
        }
      ]
    },
    {
      "cell_type": "code",
      "source": [],
      "metadata": {
        "id": "N5l3YoHcu0Re"
      },
      "execution_count": null,
      "outputs": []
    }
  ]
}