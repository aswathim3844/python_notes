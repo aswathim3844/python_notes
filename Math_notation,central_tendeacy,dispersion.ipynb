{
  "nbformat": 4,
  "nbformat_minor": 0,
  "metadata": {
    "colab": {
      "provenance": [],
      "authorship_tag": "ABX9TyM1A/YpNy010zgoQWrkjbqQ",
      "include_colab_link": true
    },
    "kernelspec": {
      "name": "python3",
      "display_name": "Python 3"
    },
    "language_info": {
      "name": "python"
    }
  },
  "cells": [
    {
      "cell_type": "markdown",
      "metadata": {
        "id": "view-in-github",
        "colab_type": "text"
      },
      "source": [
        "<a href=\"https://colab.research.google.com/github/aswathim3844/python_notes/blob/main/Math_notation%2Ccentral_tendeacy%2Cdispersion.ipynb\" target=\"_parent\"><img src=\"https://colab.research.google.com/assets/colab-badge.svg\" alt=\"Open In Colab\"/></a>"
      ]
    },
    {
      "cell_type": "markdown",
      "source": [
        "population,sample"
      ],
      "metadata": {
        "id": "uJJLaIjlnDc1"
      }
    },
    {
      "cell_type": "code",
      "execution_count": null,
      "metadata": {
        "id": "Srhml_cem6qk"
      },
      "outputs": [],
      "source": [
        "data=[5,8,2,7,3,8,10]"
      ]
    },
    {
      "cell_type": "code",
      "source": [
        "#calculating mean\n",
        "sum=0\n",
        "for num in data:\n",
        " sum+=num\n",
        "mean=sum/len(data)\n",
        "print(mean)"
      ],
      "metadata": {
        "colab": {
          "base_uri": "https://localhost:8080/"
        },
        "id": "W99zInaqyXrB",
        "outputId": "41317525-adbb-4cd2-f2df-f63128ad8549"
      },
      "execution_count": null,
      "outputs": [
        {
          "output_type": "stream",
          "name": "stdout",
          "text": [
            "6.142857142857143\n"
          ]
        }
      ]
    },
    {
      "cell_type": "code",
      "source": [
        "#calculating median\n",
        "data.sort()# Sort the list in-place\n",
        "middle_index=len(data)//2\n",
        "if len(data)%2!=0:\n",
        "  med=data[middle_index]\n",
        "else:\n",
        "  med=(data[middle_index-1]+data[middle_index])/2\n",
        "  print(data[middle_index-1])\n",
        "  print(data[middle_index])\n",
        " # Access the median element (for a list of 7 elements, the median is at index 3)\n",
        "print(med)"
      ],
      "metadata": {
        "colab": {
          "base_uri": "https://localhost:8080/"
        },
        "id": "vDQJBweEyyvC",
        "outputId": "3de2dd6e-a5eb-481a-c889-aa1ddd2ea85c"
      },
      "execution_count": null,
      "outputs": [
        {
          "output_type": "stream",
          "name": "stdout",
          "text": [
            "7\n"
          ]
        }
      ]
    },
    {
      "cell_type": "code",
      "source": [
        "#calculating mode\n",
        "freq={}\n",
        "for num in data:\n",
        "  if num in freq:\n",
        "    freq[num]+=1\n",
        "  else:\n",
        "    freq[num]=1\n",
        "\n",
        "print(freq)\n",
        "mode_list=[]\n",
        "max_freq = 0\n",
        "for num, value in freq.items():\n",
        "  if value > max_freq:\n",
        "    max_freq = value\n",
        "    mode_list = [num]\n",
        "  elif value == max_freq and num not in mode_list:\n",
        "    mode_list.append(num)\n",
        "\n",
        "print(mode_list)"
      ],
      "metadata": {
        "colab": {
          "base_uri": "https://localhost:8080/"
        },
        "id": "np6J3x7v0MEl",
        "outputId": "18638d3b-f224-48fe-bfd0-0e3adf177e0a"
      },
      "execution_count": null,
      "outputs": [
        {
          "output_type": "stream",
          "name": "stdout",
          "text": [
            "{2: 1, 3: 1, 5: 1, 7: 1, 8: 2, 10: 1}\n",
            "[8]\n"
          ]
        }
      ]
    },
    {
      "cell_type": "code",
      "source": [
        "list1=[85,60,72,55,105,315,380,290,190,130,95,70]\n",
        "sorted_list1=sorted(list1)\n",
        "print(sorted_list1)\n",
        "\n",
        "length=len(sorted_list1)\n",
        "q1_index=(length//4 )\n",
        "q2_index=(length//2 )\n",
        "q3_index=3*(length)//4\n",
        "\n",
        "Q1=sorted_list1[q1_index-1]\n",
        "Q2=sorted_list1[q2_index-1]\n",
        "Q3=sorted_list1[q3_index-1]\n",
        "print(Q1)\n",
        "print(Q2)\n",
        "print(Q3)\n",
        "\n",
        "\n"
      ],
      "metadata": {
        "colab": {
          "base_uri": "https://localhost:8080/"
        },
        "id": "L8COhFks7Doy",
        "outputId": "e908e1fb-bb23-484a-a1e5-747f15d5154f"
      },
      "execution_count": null,
      "outputs": [
        {
          "output_type": "stream",
          "name": "stdout",
          "text": [
            "[55, 60, 70, 72, 85, 95, 105, 130, 190, 290, 315, 380]\n",
            "70\n",
            "95\n",
            "190\n"
          ]
        }
      ]
    },
    {
      "cell_type": "code",
      "source": [
        "IQR=Q3-Q1\n",
        "print(f'IQR :{IQR}')"
      ],
      "metadata": {
        "colab": {
          "base_uri": "https://localhost:8080/"
        },
        "id": "R0cc1Vy5QsF8",
        "outputId": "6285f76e-e18a-4552-fa48-1fe3b3f0f995"
      },
      "execution_count": null,
      "outputs": [
        {
          "output_type": "stream",
          "name": "stdout",
          "text": [
            "IQR :120\n"
          ]
        }
      ]
    },
    {
      "cell_type": "code",
      "source": [
        "Lower_whisker=Q1-(IQR*1.5)\n",
        "print(Lower_whisker)\n",
        "Upper_whisker=Q3+(IQR*1.5)\n",
        "print(Upper_whisker)"
      ],
      "metadata": {
        "colab": {
          "base_uri": "https://localhost:8080/"
        },
        "id": "Zv5YgGuCha1V",
        "outputId": "dad2f206-e6e8-49c8-9fe2-7cef9279fc3e"
      },
      "execution_count": null,
      "outputs": [
        {
          "output_type": "stream",
          "name": "stdout",
          "text": [
            "-110.0\n",
            "370.0\n"
          ]
        }
      ]
    },
    {
      "cell_type": "code",
      "source": [
        "outlier=[]\n",
        "for i in list1:\n",
        "  if -110<i<370:\n",
        "    pass\n",
        "  else:\n",
        "    outlier.append(i)\n",
        "print(outlier)"
      ],
      "metadata": {
        "colab": {
          "base_uri": "https://localhost:8080/"
        },
        "id": "RfOTH7vHiiGt",
        "outputId": "706e0ff2-12f7-4ed6-c109-b92b0a715be3"
      },
      "execution_count": null,
      "outputs": [
        {
          "output_type": "stream",
          "name": "stdout",
          "text": [
            "[380]\n"
          ]
        }
      ]
    },
    {
      "cell_type": "code",
      "source": [],
      "metadata": {
        "id": "8HJZRnlmkalj"
      },
      "execution_count": null,
      "outputs": []
    }
  ]
}