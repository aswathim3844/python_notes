{
  "nbformat": 4,
  "nbformat_minor": 0,
  "metadata": {
    "colab": {
      "provenance": [],
      "authorship_tag": "ABX9TyNYFX+IibMaG6A39HP2c8Qi",
      "include_colab_link": true
    },
    "kernelspec": {
      "name": "python3",
      "display_name": "Python 3"
    },
    "language_info": {
      "name": "python"
    }
  },
  "cells": [
    {
      "cell_type": "markdown",
      "metadata": {
        "id": "view-in-github",
        "colab_type": "text"
      },
      "source": [
        "<a href=\"https://colab.research.google.com/github/aswathim3844/python_notes/blob/main/DAY_3_iterative_statement_%2Cfuntions_.ipynb\" target=\"_parent\"><img src=\"https://colab.research.google.com/assets/colab-badge.svg\" alt=\"Open In Colab\"/></a>"
      ]
    },
    {
      "cell_type": "markdown",
      "source": [
        "#**Iterative statements**\n",
        "For loop\n",
        "\n",
        "it can be executed in two ways ; using range or through an iterative data structure\n",
        "\n",
        "\n",
        "\n",
        "\n"
      ],
      "metadata": {
        "id": "rHfSwlw1jIOw"
      }
    },
    {
      "cell_type": "markdown",
      "source": [
        "for char in \"Hello\":\n",
        "    \n",
        "    print(char)\n",
        "for i in range(10):\n",
        "\n",
        "    print(i)"
      ],
      "metadata": {
        "id": "7xARhkZr1M7E"
      }
    },
    {
      "cell_type": "code",
      "execution_count": null,
      "metadata": {
        "colab": {
          "base_uri": "https://localhost:8080/"
        },
        "id": "A6yBTwi4iqLL",
        "outputId": "7f94641d-9487-4e89-859a-51061d090692"
      },
      "outputs": [
        {
          "output_type": "stream",
          "name": "stdout",
          "text": [
            "0\n",
            "1\n",
            "2\n",
            "3\n",
            "4\n",
            "5\n",
            "6\n",
            "7\n",
            "8\n",
            "9\n",
            "10\n",
            "11\n"
          ]
        }
      ],
      "source": [
        "for i in range(12):\n",
        "  print(i)"
      ]
    },
    {
      "cell_type": "code",
      "source": [
        "for num in range(100,140,2):\n",
        "  print(num)"
      ],
      "metadata": {
        "colab": {
          "base_uri": "https://localhost:8080/"
        },
        "id": "cSPGuwrIk78I",
        "outputId": "67254f7a-e4b0-4cd7-dcaf-b26e0940c4a2"
      },
      "execution_count": null,
      "outputs": [
        {
          "output_type": "stream",
          "name": "stdout",
          "text": [
            "100\n",
            "102\n",
            "104\n",
            "106\n",
            "108\n",
            "110\n",
            "112\n",
            "114\n",
            "116\n",
            "118\n",
            "120\n",
            "122\n",
            "124\n",
            "126\n",
            "128\n",
            "130\n",
            "132\n",
            "134\n",
            "136\n",
            "138\n"
          ]
        }
      ]
    },
    {
      "cell_type": "code",
      "source": [
        "for num in range(100,140,2):\n",
        "  print(num**2)"
      ],
      "metadata": {
        "colab": {
          "base_uri": "https://localhost:8080/"
        },
        "id": "wcxZDUMslMZt",
        "outputId": "9e9f5e27-d872-453c-ac78-8bec609e2cd5"
      },
      "execution_count": null,
      "outputs": [
        {
          "output_type": "stream",
          "name": "stdout",
          "text": [
            "10000\n",
            "10404\n",
            "10816\n",
            "11236\n",
            "11664\n",
            "12100\n",
            "12544\n",
            "12996\n",
            "13456\n",
            "13924\n",
            "14400\n",
            "14884\n",
            "15376\n",
            "15876\n",
            "16384\n",
            "16900\n",
            "17424\n",
            "17956\n",
            "18496\n",
            "19044\n"
          ]
        }
      ]
    },
    {
      "cell_type": "code",
      "source": [
        "word=\"remote internship\"\n",
        "for char in word:\n",
        "  print(char)"
      ],
      "metadata": {
        "colab": {
          "base_uri": "https://localhost:8080/"
        },
        "id": "IC19v3C-lSvA",
        "outputId": "d9ebffcf-3a4d-4093-bbdc-bb08deae3d60"
      },
      "execution_count": null,
      "outputs": [
        {
          "output_type": "stream",
          "name": "stdout",
          "text": [
            "r\n",
            "e\n",
            "m\n",
            "o\n",
            "t\n",
            "e\n",
            " \n",
            "i\n",
            "n\n",
            "t\n",
            "e\n",
            "r\n",
            "n\n",
            "s\n",
            "h\n",
            "i\n",
            "p\n"
          ]
        }
      ]
    },
    {
      "cell_type": "code",
      "source": [
        "value =[1,2,9,4,6]\n",
        "for char in value:\n",
        "  print(char)"
      ],
      "metadata": {
        "colab": {
          "base_uri": "https://localhost:8080/"
        },
        "id": "zzMpNZyrlutR",
        "outputId": "767153b1-0d93-4700-cf85-a76ac9c64cf3"
      },
      "execution_count": null,
      "outputs": [
        {
          "output_type": "stream",
          "name": "stdout",
          "text": [
            "1\n",
            "2\n",
            "3\n",
            "4\n",
            "6\n"
          ]
        }
      ]
    },
    {
      "cell_type": "code",
      "source": [
        "for i in range (len(value)):\n",
        "  print(i)"
      ],
      "metadata": {
        "colab": {
          "base_uri": "https://localhost:8080/"
        },
        "id": "oTRP_TO1mAeq",
        "outputId": "491323ab-e37d-4855-a277-db340c50252e"
      },
      "execution_count": null,
      "outputs": [
        {
          "output_type": "stream",
          "name": "stdout",
          "text": [
            "0\n",
            "1\n",
            "2\n",
            "3\n",
            "4\n"
          ]
        }
      ]
    },
    {
      "cell_type": "code",
      "source": [
        "for i in range (len(value)):\n",
        "  print(value[i])"
      ],
      "metadata": {
        "colab": {
          "base_uri": "https://localhost:8080/"
        },
        "id": "gb1Ib9xpmvI9",
        "outputId": "c622c945-c4ff-453a-88d5-5b1c053bba29"
      },
      "execution_count": null,
      "outputs": [
        {
          "output_type": "stream",
          "name": "stdout",
          "text": [
            "1\n",
            "2\n",
            "3\n",
            "4\n",
            "6\n"
          ]
        }
      ]
    },
    {
      "cell_type": "code",
      "source": [
        "list1=[-1,-2,-6,5,8,7]\n",
        "for i in list1:\n",
        "  if i<=0:\n",
        "     print(\"negative number\")\n",
        "  else:\n",
        "    print(\"positive number\")\n"
      ],
      "metadata": {
        "colab": {
          "base_uri": "https://localhost:8080/"
        },
        "id": "ORVPZn2Zm61K",
        "outputId": "e3039132-6f0a-4737-a4d6-24ede2fe52a6"
      },
      "execution_count": null,
      "outputs": [
        {
          "output_type": "stream",
          "name": "stdout",
          "text": [
            "negative number\n",
            "negative number\n",
            "negative number\n",
            "positive number\n",
            "positive number\n",
            "positive number\n"
          ]
        }
      ]
    },
    {
      "cell_type": "code",
      "source": [
        "my_dict={\"name\":\"aswathi\",\"age\":24,\"course\":\"dsa\",\"place\":\"tvm\"}"
      ],
      "metadata": {
        "id": "nCBOhYgQnki-"
      },
      "execution_count": null,
      "outputs": []
    },
    {
      "cell_type": "code",
      "source": [
        "my_dict"
      ],
      "metadata": {
        "colab": {
          "base_uri": "https://localhost:8080/"
        },
        "id": "VUSEQIbXqUAo",
        "outputId": "09d0d362-fb24-4111-a3a0-9388419d3f07"
      },
      "execution_count": null,
      "outputs": [
        {
          "output_type": "execute_result",
          "data": {
            "text/plain": [
              "{'name': 'aswathi', 'age': 24, 'course': 'dsa', 'place': 'tvm'}"
            ]
          },
          "metadata": {},
          "execution_count": 26
        }
      ]
    },
    {
      "cell_type": "code",
      "source": [
        "my_dict.keys()"
      ],
      "metadata": {
        "colab": {
          "base_uri": "https://localhost:8080/"
        },
        "id": "0cu1qsdDqXKt",
        "outputId": "ef8078eb-7e61-47ed-eb66-6fa252be0887"
      },
      "execution_count": null,
      "outputs": [
        {
          "output_type": "execute_result",
          "data": {
            "text/plain": [
              "dict_keys(['name', 'age', 'course', 'place'])"
            ]
          },
          "metadata": {},
          "execution_count": 27
        }
      ]
    },
    {
      "cell_type": "code",
      "source": [
        "my_dict.values()\n"
      ],
      "metadata": {
        "colab": {
          "base_uri": "https://localhost:8080/"
        },
        "id": "-mLPiduIqbSM",
        "outputId": "a474fd26-4e7e-44f2-a87e-9f74d38fb287"
      },
      "execution_count": null,
      "outputs": [
        {
          "output_type": "execute_result",
          "data": {
            "text/plain": [
              "dict_values(['aswathi', 24, 'dsa', 'tvm'])"
            ]
          },
          "metadata": {},
          "execution_count": 28
        }
      ]
    },
    {
      "cell_type": "code",
      "source": [
        "my_dict.items()"
      ],
      "metadata": {
        "colab": {
          "base_uri": "https://localhost:8080/"
        },
        "id": "vouibSQrqhH1",
        "outputId": "a242cbef-061d-4be7-cdd3-c0f0843bfab8"
      },
      "execution_count": null,
      "outputs": [
        {
          "output_type": "execute_result",
          "data": {
            "text/plain": [
              "dict_items([('name', 'aswathi'), ('age', 24), ('course', 'dsa'), ('place', 'tvm')])"
            ]
          },
          "metadata": {},
          "execution_count": 29
        }
      ]
    },
    {
      "cell_type": "code",
      "source": [
        "for k,v in my_dict.items():\n",
        "  print(f'my {k} is {v}')"
      ],
      "metadata": {
        "colab": {
          "base_uri": "https://localhost:8080/"
        },
        "id": "1Yx3tVixql9l",
        "outputId": "7303eca1-b88a-4001-e75d-142debeafd09"
      },
      "execution_count": null,
      "outputs": [
        {
          "output_type": "stream",
          "name": "stdout",
          "text": [
            "my name is aswathi\n",
            "my age is 24\n",
            "my course is dsa\n",
            "my place is tvm\n"
          ]
        }
      ]
    },
    {
      "cell_type": "code",
      "source": [
        "grocery_price={\"paneer\":120,\"banana\":60,\"milk\":23,\"oats\":80,\"egg\":58,\"bread\":45,\"apple\":120,\"chicken\":180}\n",
        "budget=300\n",
        "total_price=0\n",
        "my_list=[]\n",
        "for x,y in grocery_price.items():\n",
        "  if y<budget and total_price+y<=budget:\n",
        "    total_price+=y\n",
        "    my_list.append(x)\n",
        "\n",
        "print(my_list)"
      ],
      "metadata": {
        "colab": {
          "base_uri": "https://localhost:8080/"
        },
        "id": "GiGGXmjDq9PV",
        "outputId": "7cb61010-1e2d-40b9-dcaf-2c2c595f14d1"
      },
      "execution_count": null,
      "outputs": [
        {
          "output_type": "stream",
          "name": "stdout",
          "text": [
            "['paneer', 'banana', 'milk', 'oats']\n"
          ]
        }
      ]
    },
    {
      "cell_type": "code",
      "source": [
        "for x in range(1,100):\n",
        "  if x%5==0 and x%3==0:\n",
        "    print(x)\n",
        "\n"
      ],
      "metadata": {
        "colab": {
          "base_uri": "https://localhost:8080/"
        },
        "id": "COVNoOChs7JU",
        "outputId": "a9d16d8b-af71-426c-a734-53819bd26b32"
      },
      "execution_count": null,
      "outputs": [
        {
          "output_type": "stream",
          "name": "stdout",
          "text": [
            "15\n",
            "30\n",
            "45\n",
            "60\n",
            "75\n",
            "90\n"
          ]
        }
      ]
    },
    {
      "cell_type": "code",
      "source": [
        "A=1\n",
        "while A<10:\n",
        "  print(A)\n",
        "  A=A+2\n",
        "else:\n",
        "  print(\"you crossed the limit\")"
      ],
      "metadata": {
        "colab": {
          "base_uri": "https://localhost:8080/"
        },
        "id": "jgbUQegz58pP",
        "outputId": "ce44dd94-2696-4651-d6d5-88e2311edb67"
      },
      "execution_count": null,
      "outputs": [
        {
          "output_type": "stream",
          "name": "stdout",
          "text": [
            "1\n",
            "3\n",
            "5\n",
            "7\n",
            "9\n",
            "you crossed the limit\n"
          ]
        }
      ]
    },
    {
      "cell_type": "code",
      "source": [
        "balance_amount=215\n",
        "while balance_amount>0:\n",
        "  print(f\"balance is {balance_amount}\")\n",
        "  balance_amount-=50\n",
        "\n",
        "else:\n",
        "  print(\"balance low!\")"
      ],
      "metadata": {
        "colab": {
          "base_uri": "https://localhost:8080/"
        },
        "id": "5s41k7KXAcU_",
        "outputId": "eafa1a53-2598-4af4-c763-212bcc503256"
      },
      "execution_count": null,
      "outputs": [
        {
          "output_type": "stream",
          "name": "stdout",
          "text": [
            "balance is 215\n",
            "balance is 165\n",
            "balance is 115\n",
            "balance is 65\n",
            "balance is 15\n",
            "balance low!\n"
          ]
        }
      ]
    },
    {
      "cell_type": "code",
      "source": [
        "secret_num=15\n",
        "num=int(input(\"enter a number \"))\n",
        "\n",
        "while num!=secret_num:\n",
        "  print(\"oops! wrong number\")\n",
        "  num=int(input(\"enter a number \"))\n",
        "else:\n",
        "  print(\"you got it right\")\n"
      ],
      "metadata": {
        "colab": {
          "base_uri": "https://localhost:8080/"
        },
        "id": "0-r3M213B-x1",
        "outputId": "9e9ea67d-70a5-40a7-8b2f-5141d9f0dcce"
      },
      "execution_count": null,
      "outputs": [
        {
          "output_type": "stream",
          "name": "stdout",
          "text": [
            "enter a number 45\n",
            "oops! wrong number\n",
            "enter a number 15\n",
            "you got it right\n"
          ]
        }
      ]
    },
    {
      "cell_type": "code",
      "source": [
        "secret_num=15\n",
        "import random\n",
        "num1=random.randint(1,50)\n",
        "while num1!=secret_num:\n",
        "  print(f'guess is {num1} oops! wrong number')\n",
        "  num1=random.randint(1,50)\n",
        "else:\n",
        "  print(\"you got it right\")\n"
      ],
      "metadata": {
        "colab": {
          "base_uri": "https://localhost:8080/"
        },
        "id": "v3hz3YR2EY78",
        "outputId": "c1cb0534-28b7-4ac2-d943-d64052f3b5f6"
      },
      "execution_count": null,
      "outputs": [
        {
          "output_type": "stream",
          "name": "stdout",
          "text": [
            "guess is 19 oops! wrong number\n",
            "guess is 33 oops! wrong number\n",
            "guess is 40 oops! wrong number\n",
            "guess is 49 oops! wrong number\n",
            "guess is 13 oops! wrong number\n",
            "guess is 45 oops! wrong number\n",
            "guess is 42 oops! wrong number\n",
            "guess is 40 oops! wrong number\n",
            "guess is 2 oops! wrong number\n",
            "guess is 19 oops! wrong number\n",
            "guess is 2 oops! wrong number\n",
            "guess is 46 oops! wrong number\n",
            "guess is 29 oops! wrong number\n",
            "guess is 50 oops! wrong number\n",
            "guess is 21 oops! wrong number\n",
            "guess is 45 oops! wrong number\n",
            "guess is 7 oops! wrong number\n",
            "guess is 25 oops! wrong number\n",
            "guess is 32 oops! wrong number\n",
            "guess is 30 oops! wrong number\n",
            "guess is 27 oops! wrong number\n",
            "guess is 16 oops! wrong number\n",
            "guess is 50 oops! wrong number\n",
            "guess is 37 oops! wrong number\n",
            "guess is 19 oops! wrong number\n",
            "guess is 31 oops! wrong number\n",
            "guess is 30 oops! wrong number\n",
            "guess is 21 oops! wrong number\n",
            "guess is 35 oops! wrong number\n",
            "guess is 23 oops! wrong number\n",
            "guess is 47 oops! wrong number\n",
            "guess is 5 oops! wrong number\n",
            "guess is 27 oops! wrong number\n",
            "guess is 18 oops! wrong number\n",
            "guess is 41 oops! wrong number\n",
            "guess is 33 oops! wrong number\n",
            "guess is 12 oops! wrong number\n",
            "guess is 42 oops! wrong number\n",
            "guess is 26 oops! wrong number\n",
            "guess is 35 oops! wrong number\n",
            "guess is 39 oops! wrong number\n",
            "guess is 34 oops! wrong number\n",
            "guess is 32 oops! wrong number\n",
            "guess is 4 oops! wrong number\n",
            "you got it right\n"
          ]
        }
      ]
    },
    {
      "cell_type": "code",
      "source": [
        "password1=123\n",
        "\n",
        "\n",
        "count=0\n",
        "while count<3:\n",
        "  password=int(input(\"ENTER PASSWORD \"))\n",
        "  if password!=password1:\n",
        "     password=int(input(\"wrong password , try again  \"))\n",
        "     count+=1\n",
        "  else:\n",
        "    print(\"SUCCESFULLY LOGGED IN\")\n",
        "    break\n",
        "else:\n",
        "  print(\"attempt exceeded\")"
      ],
      "metadata": {
        "colab": {
          "base_uri": "https://localhost:8080/"
        },
        "id": "0-iZK_4DLOwC",
        "outputId": "f508c3dc-80b9-4c0e-86de-49e05add16c3"
      },
      "execution_count": null,
      "outputs": [
        {
          "output_type": "stream",
          "name": "stdout",
          "text": [
            "ENTER PASSWORD 124\n",
            "wrong password , try again  145\n",
            "ENTER PASSWORD 123\n",
            "SUCCESFULLY LOGGED IN\n"
          ]
        }
      ]
    },
    {
      "cell_type": "code",
      "source": [
        "#Create a dictionary to store movie and their rating\n",
        "movie_rating ={'The Dark Knight':9.0,'Inception':8.8,'Interstellar':8.7,'Forrest Gump':8.8,'The Room':3.6,'Cats':2.8,'Movie 43':4.3,'The Love Guru':3.8}\n",
        "#print all movies and rating\n",
        "movie_rating.items()\n"
      ],
      "metadata": {
        "id": "ZzioXYqiJkKQ",
        "colab": {
          "base_uri": "https://localhost:8080/"
        },
        "outputId": "58e0a559-7380-4211-df2a-8fd2853d7812"
      },
      "execution_count": null,
      "outputs": [
        {
          "output_type": "execute_result",
          "data": {
            "text/plain": [
              "dict_items([('The Dark Knight', 9.0), ('Inception', 8.8), ('Interstellar', 8.7), ('Forrest Gump', 8.8), ('The Room', 3.6), ('Cats', 2.8), ('Movie 43', 4.3), ('The Love Guru', 3.8)])"
            ]
          },
          "metadata": {},
          "execution_count": 1
        }
      ]
    },
    {
      "cell_type": "code",
      "source": [
        "#update a movie rating\n",
        "movie_rating['The Dark Knight']=8.9\n",
        "print(movie_rating)"
      ],
      "metadata": {
        "id": "lrV1YoZNSQdH",
        "colab": {
          "base_uri": "https://localhost:8080/"
        },
        "outputId": "43a26e1d-41fa-4649-d29e-bedc520d5559"
      },
      "execution_count": null,
      "outputs": [
        {
          "output_type": "stream",
          "name": "stdout",
          "text": [
            "{'The Dark Knight': 8.9, 'Inception': 8.8, 'Interstellar': 8.7, 'Forrest Gump': 8.8, 'The Room': 3.6, 'Cats': 2.8, 'Movie 43': 4.3, 'The Love Guru': 3.8}\n"
          ]
        }
      ]
    },
    {
      "cell_type": "code",
      "source": [
        "#add 2 new movie and thier rating to dictionary\n",
        "movie_rating[\"abc\"]=4.5\n",
        "movie_rating[\"juhg\"]=5.6\n",
        "print(movie_rating)\n",
        "\n"
      ],
      "metadata": {
        "colab": {
          "base_uri": "https://localhost:8080/"
        },
        "id": "FvTxFMTf5IXL",
        "outputId": "35e26f3e-cb17-478a-e4cf-508e36b0b917"
      },
      "execution_count": null,
      "outputs": [
        {
          "output_type": "stream",
          "name": "stdout",
          "text": [
            "{'The Dark Knight': 8.9, 'Inception': 8.8, 'Interstellar': 8.7, 'Forrest Gump': 8.8, 'The Room': 3.6, 'Cats': 2.8, 'Movie 43': 4.3, 'The Love Guru': 3.8, 'abc': 4.5, 'juhg': 5.6}\n"
          ]
        }
      ]
    },
    {
      "cell_type": "code",
      "source": [
        "#find the highest rated movie from the dictionary\n",
        "highest_rating = max(movie_rating.values())\n",
        "print(highest_rating)"
      ],
      "metadata": {
        "colab": {
          "base_uri": "https://localhost:8080/"
        },
        "id": "zsJdjavd5PmA",
        "outputId": "0b1cce9f-7bc2-469a-b203-4e22018e8d31"
      },
      "execution_count": null,
      "outputs": [
        {
          "output_type": "stream",
          "name": "stdout",
          "text": [
            "8.9\n"
          ]
        }
      ]
    },
    {
      "cell_type": "code",
      "source": [
        "#remove movies from dicationary if rating below 5\n",
        "new_dict=[]\n",
        "for x,y in movie_rating.items():\n",
        "   if y<5:\n",
        "      new_dict.append(x)\n",
        "for x in new_dict:\n",
        "  del movie_rating[x]\n",
        "print(movie_rating)\n",
        "\n"
      ],
      "metadata": {
        "colab": {
          "base_uri": "https://localhost:8080/"
        },
        "id": "R-O61IGq5VX5",
        "outputId": "bf1d7122-8b0f-4efb-fcf0-5b828d0d768e"
      },
      "execution_count": null,
      "outputs": [
        {
          "output_type": "stream",
          "name": "stdout",
          "text": [
            "{'The Dark Knight': 8.9, 'Inception': 8.8, 'Interstellar': 8.7, 'Forrest Gump': 8.8, 'juhg': 5.6}\n"
          ]
        }
      ]
    },
    {
      "cell_type": "code",
      "source": [
        "\n"
      ],
      "metadata": {
        "id": "Pzfoe8Co-agY"
      },
      "execution_count": null,
      "outputs": []
    }
  ]
}