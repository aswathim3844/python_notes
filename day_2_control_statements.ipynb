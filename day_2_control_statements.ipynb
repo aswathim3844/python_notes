{
  "nbformat": 4,
  "nbformat_minor": 0,
  "metadata": {
    "colab": {
      "provenance": [],
      "authorship_tag": "ABX9TyN2dt09i0Q3QAO26GgeuWxY",
      "include_colab_link": true
    },
    "kernelspec": {
      "name": "python3",
      "display_name": "Python 3"
    },
    "language_info": {
      "name": "python"
    }
  },
  "cells": [
    {
      "cell_type": "markdown",
      "metadata": {
        "id": "view-in-github",
        "colab_type": "text"
      },
      "source": [
        "<a href=\"https://colab.research.google.com/github/aswathim3844/python_notes/blob/main/day_2_control_statements.ipynb\" target=\"_parent\"><img src=\"https://colab.research.google.com/assets/colab-badge.svg\" alt=\"Open In Colab\"/></a>"
      ]
    },
    {
      "cell_type": "markdown",
      "source": [
        "#control statements\n",
        "\n",
        "\n",
        "##if\n",
        "\n",
        "this checks a condition,and if its true ,the indented code block under it will be executed\n",
        "\n",
        "##if else\n",
        "\n",
        "##if elif elif\n",
        "\n",
        "##if elif else\n",
        "  \n",
        "##nested ifs\n",
        "\n",
        "\n",
        "\n",
        "\n",
        "\n",
        "\n"
      ],
      "metadata": {
        "id": "MOtkoITMTOJW"
      }
    },
    {
      "cell_type": "code",
      "execution_count": null,
      "metadata": {
        "colab": {
          "base_uri": "https://localhost:8080/"
        },
        "id": "NouZV3d2TB2S",
        "outputId": "a0a9af60-4f00-44de-cace-a82760a69ef9"
      },
      "outputs": [
        {
          "output_type": "stream",
          "name": "stdout",
          "text": [
            "enter your year of birth 2001\n",
            "you are born in 2001 and your age is 24\n",
            "you are eligible for voting\n"
          ]
        }
      ],
      "source": [
        "year_of_birth =int(input('enter your year of birth '))\n",
        "\n",
        "age = 2025 -year_of_birth\n",
        "print(f'you are born in {year_of_birth} and your age is {age}')\n",
        "if age>=18:\n",
        "  print(\"you are eligible for voting\")"
      ]
    },
    {
      "cell_type": "code",
      "source": [
        "year_of_birth =int(input('enter your year of birth '))\n",
        "\n",
        "age = 2025 -year_of_birth\n",
        "print(f'you are born in {year_of_birth} and your age is {age}')\n",
        "if age>=18:\n",
        "  print(\"you are eligible for voting\")\n",
        "else :\n",
        "  print('you are not eligibe for voting')"
      ],
      "metadata": {
        "colab": {
          "base_uri": "https://localhost:8080/"
        },
        "id": "ZepqcjYBTctN",
        "outputId": "753bddd0-ce3a-4622-8545-c31b2be2cd7a"
      },
      "execution_count": null,
      "outputs": [
        {
          "output_type": "stream",
          "name": "stdout",
          "text": [
            "enter your year of birth 2001\n",
            "you are born in 2001 and your age is 24\n",
            "you are eligible for voting\n"
          ]
        }
      ]
    },
    {
      "cell_type": "code",
      "source": [
        "num=int(input(\"enter a digit\"))\n",
        "if num>0:\n",
        "  print(\"positive number\")\n",
        "elif num==0:\n",
        "  print('num is zero')\n",
        "elif num<0:\n",
        "  print(\"negative number\")\n",
        "\n"
      ],
      "metadata": {
        "colab": {
          "base_uri": "https://localhost:8080/"
        },
        "id": "1LA9RRkyUPig",
        "outputId": "438eb8e5-0e0e-42b4-bdba-328a36e2d2cb"
      },
      "execution_count": null,
      "outputs": [
        {
          "output_type": "stream",
          "name": "stdout",
          "text": [
            "enter a digit5\n",
            "positive number\n"
          ]
        }
      ]
    },
    {
      "cell_type": "code",
      "source": [
        "year_of_birth= int(input(\"enter your year of birth  \" ))\n",
        "age = 2025-year_of_birth\n",
        "if age<=12:\n",
        "  print('child')\n",
        "elif 13<=age<=19:\n",
        "  print(\"teenage\")\n",
        "elif 20<=age<=59:\n",
        "  print(\"adult\")\n",
        "else :\n",
        "  print(\"senior citizen\")"
      ],
      "metadata": {
        "colab": {
          "base_uri": "https://localhost:8080/"
        },
        "id": "KIsNsa12Vmsd",
        "outputId": "6b1fc1fc-247a-4868-f5c6-1f4ce61c9df5"
      },
      "execution_count": null,
      "outputs": [
        {
          "output_type": "stream",
          "name": "stdout",
          "text": [
            "enter your year of birth  2001\n",
            "adult\n"
          ]
        }
      ]
    },
    {
      "cell_type": "code",
      "source": [
        "year_of_birth= int(input(\"enter your year of birth  \" ))\n",
        "age = 2025-year_of_birth\n",
        "if age<=12:\n",
        "  print('child')\n",
        "elif age<=19:\n",
        "  print(\"teenage\")\n",
        "elif age<=59:\n",
        "  print(\"adult\")\n",
        "else :\n",
        "  print(\"senior citizen\")"
      ],
      "metadata": {
        "colab": {
          "base_uri": "https://localhost:8080/"
        },
        "id": "Fy-AojGLWdGY",
        "outputId": "4fbb1421-d37e-471d-82f2-4072470b1675"
      },
      "execution_count": null,
      "outputs": [
        {
          "output_type": "stream",
          "name": "stdout",
          "text": [
            "enter your year of birth  2001\n",
            "adult\n"
          ]
        }
      ]
    },
    {
      "cell_type": "code",
      "source": [
        "# write code to check if your name is lenghty(more than 10 characters)\n",
        "name=input(\"enter your name \")\n",
        "if len(name)>=10:\n",
        "  print(\"your name is lenghty\")\n",
        "else:\n",
        "  print(\"your name is not lenghty\")"
      ],
      "metadata": {
        "colab": {
          "base_uri": "https://localhost:8080/"
        },
        "id": "hrrJl2PsX6I1",
        "outputId": "7a7a2a1c-668f-47cf-9317-42ef7f9196e9"
      },
      "execution_count": null,
      "outputs": [
        {
          "output_type": "stream",
          "name": "stdout",
          "text": [
            "enter your name aswathi\n",
            "your name is not lenghty\n"
          ]
        }
      ]
    },
    {
      "cell_type": "code",
      "source": [],
      "metadata": {
        "id": "iE8xbIdcdVSf"
      },
      "execution_count": null,
      "outputs": []
    },
    {
      "cell_type": "code",
      "source": [
        "#convert railway to am-pm format\n",
        "time=input(\"enter your time :\").split(':')\n",
        "hour=int(time[0])\n",
        "min=int(time[1])\n",
        "if hour>12:\n",
        "  hour-=12\n",
        "  print(f'{hour}:{min}pm')\n",
        "else:\n",
        "  print(f'{hour}:{min}am')"
      ],
      "metadata": {
        "colab": {
          "base_uri": "https://localhost:8080/"
        },
        "id": "63oPXNUtjB0z",
        "outputId": "89d087fd-43b3-4ac3-d5c4-2957fa08a287"
      },
      "execution_count": null,
      "outputs": [
        {
          "output_type": "stream",
          "name": "stdout",
          "text": [
            "enter your time :13:54\n",
            "1:54pm\n"
          ]
        }
      ]
    },
    {
      "cell_type": "code",
      "source": [
        "#write code to print a given string is palindrome\n",
        "data=input(\"enter your string\")\n",
        "reverse=data[::-1]\n",
        "if data==reverse:\n",
        "  print(\"it's a palindrome\")\n",
        "else:\n",
        "  print(\"it's not a palindrome\")\n",
        "\n"
      ],
      "metadata": {
        "colab": {
          "base_uri": "https://localhost:8080/"
        },
        "id": "Q_SGcLjXjC7p",
        "outputId": "f5c2c404-4354-41f1-b381-43385cb7bba6"
      },
      "execution_count": null,
      "outputs": [
        {
          "output_type": "stream",
          "name": "stdout",
          "text": [
            "enter your stringaswathi\n",
            "it's not a palindrome\n"
          ]
        }
      ]
    },
    {
      "cell_type": "code",
      "source": [
        "# code to check your favourite color is primary color or not\n",
        "fav_color=input(\"enter your favourite color:\")\n",
        "primary_color=(\"red\",\"green\",\"blue\")\n",
        "if fav_color in primary_color:\n",
        "  print(\"your favourite color is primary\")\n",
        "else :\n",
        "  print(\"your favourite color is not primary\")"
      ],
      "metadata": {
        "colab": {
          "base_uri": "https://localhost:8080/"
        },
        "id": "QLRDDfv0jqxP",
        "outputId": "a61f2d9f-1c83-47c7-ceac-8685e751a24a"
      },
      "execution_count": null,
      "outputs": [
        {
          "output_type": "stream",
          "name": "stdout",
          "text": [
            "enter your favourite color:green\n",
            "your favourite color is primary\n"
          ]
        }
      ]
    },
    {
      "cell_type": "code",
      "source": [
        "#write a code to check whether a product has expired(6 month shelf life) or not based on mfd provided by the user in dd/mm/yyyy format\n",
        "mfd=input(\"enter your mfd in dd/mm/yyyy format\").split('/')\n",
        "mfd_month=int(mfd[1])\n",
        "mfd_year =int(mfd[1])\n",
        "if mfd_year<2025:\n",
        "   print(\"product is expired\")\n",
        "elif(mfd_year==2025):\n",
        "   if mfd_month>=2:\n",
        "    print(\"product is not expired\")\n",
        "   else:\n",
        "    print(\"product is expired\")\n",
        "else:\n",
        "  print(\"product is  expired\")"
      ],
      "metadata": {
        "colab": {
          "base_uri": "https://localhost:8080/"
        },
        "id": "YDUEsoszl-g2",
        "outputId": "341c993b-b276-4ed9-80b3-641cc773d8df"
      },
      "execution_count": null,
      "outputs": [
        {
          "output_type": "stream",
          "name": "stdout",
          "text": [
            "enter your mfd in dd/mm/yyyy format02/05/2025\n",
            "product is expired\n"
          ]
        }
      ]
    },
    {
      "cell_type": "code",
      "source": [],
      "metadata": {
        "id": "ORYRO2nx5uK0"
      },
      "execution_count": null,
      "outputs": []
    },
    {
      "cell_type": "code",
      "source": [
        "# write a code to print the greatest amoung three numbers given by users\n",
        "num1=int((input()))\n",
        "num2=int((input()))\n",
        "num3=int((input()))\n",
        "\n",
        "if num1>num2 & num1>num3:\n",
        "  print(num1)\n",
        "elif num2>num3 & num2>num1:\n",
        "  print(num2)\n",
        "elif num3>num2 & num3>num1:\n",
        "  print(num3)\n"
      ],
      "metadata": {
        "colab": {
          "base_uri": "https://localhost:8080/"
        },
        "id": "vRPBOGmsnv10",
        "outputId": "276a5b20-b876-40c5-9a8a-c28b98fb4cba"
      },
      "execution_count": null,
      "outputs": [
        {
          "name": "stdout",
          "output_type": "stream",
          "text": [
            "5\n",
            "456\n",
            "55\n"
          ]
        }
      ]
    },
    {
      "cell_type": "code",
      "source": [
        "#write code to print a given day is holiday (saturday or sunday)or not(all other day)\n",
        "holiday=(\"sunday\",\"saturday\")\n",
        "day = input(\"enter a day  \")\n",
        "working_day=(\"monday\",\"tuesday\",'wednesday','thurdsay','friday')\n",
        "if day in holiday:\n",
        "  print(\"yeah!,it's a holiday\")\n",
        "elif day in working_day:\n",
        "  print(\"it's not a holiday\")\n",
        "else:\n",
        "  print(\"there is some error\")"
      ],
      "metadata": {
        "colab": {
          "base_uri": "https://localhost:8080/"
        },
        "id": "4OQSxjcXxVXW",
        "outputId": "d9f6448a-bbb3-40e1-e384-8bcfb6314918"
      },
      "execution_count": null,
      "outputs": [
        {
          "output_type": "stream",
          "name": "stdout",
          "text": [
            "enter a day  monday\n",
            "it's not a holiday\n"
          ]
        }
      ]
    },
    {
      "cell_type": "markdown",
      "source": [
        "#place holder passing"
      ],
      "metadata": {
        "id": "S0QJev7RyqVI"
      }
    },
    {
      "cell_type": "code",
      "source": [
        "a=10\n",
        "b=20.2523533\n",
        "print (\"a contain\", a ,\"b contain \" ,b)\n",
        "print(a,b, sep=\":\")\n",
        "print(\"hi\",end=\"_\")\n",
        "print(\"welcome\")"
      ],
      "metadata": {
        "colab": {
          "base_uri": "https://localhost:8080/"
        },
        "id": "H6JiOXeCyt4I",
        "outputId": "97cdbb87-b0ae-4f6a-c361-20672cf5215d"
      },
      "execution_count": null,
      "outputs": [
        {
          "output_type": "stream",
          "name": "stdout",
          "text": [
            "a contain 10 b contain  20.2523533\n",
            "10:20.2523533\n",
            "hi_welcome\n"
          ]
        }
      ]
    },
    {
      "cell_type": "code",
      "source": [
        "print(\"a contain{}\".format(a))\n",
        "print(\"a contain {} and b contain {}\".format(a,b))\n",
        "print(\"a contain {1} and b contain {0}\".format(b,a))\n",
        "print(f'a contains {a} and b contains {b}')\n",
        "print(f'b contains {b:.3f}')"
      ],
      "metadata": {
        "colab": {
          "base_uri": "https://localhost:8080/"
        },
        "id": "xTKcAQoYy9Cc",
        "outputId": "414f541c-c4fd-498a-817c-8ae745b926f4"
      },
      "execution_count": null,
      "outputs": [
        {
          "output_type": "stream",
          "name": "stdout",
          "text": [
            "a contain10\n",
            "a contain 10 and b contain 20.2523533\n",
            "a contain 10 and b contain 20.2523533\n",
            "a contains 10 and b contains 20.2523533\n",
            "b contains 20.252\n"
          ]
        }
      ]
    },
    {
      "cell_type": "code",
      "source": [
        "name,age,location ='guest',22,'cochin'\n",
        "print(name)\n",
        "print(age)\n",
        "print(location)"
      ],
      "metadata": {
        "colab": {
          "base_uri": "https://localhost:8080/"
        },
        "id": "ak0h1sle0lrR",
        "outputId": "09ee36e2-0c8c-49c5-a4f0-62ff88a170ef"
      },
      "execution_count": null,
      "outputs": [
        {
          "output_type": "stream",
          "name": "stdout",
          "text": [
            "guest\n",
            "22\n",
            "cochin\n"
          ]
        }
      ]
    },
    {
      "cell_type": "markdown",
      "source": [
        "#type conversion\n"
      ],
      "metadata": {
        "id": "Nj67L_F56XyZ"
      }
    },
    {
      "cell_type": "code",
      "source": [
        "a=5\n",
        "b=str(a)\n",
        "print(b,type(b))"
      ],
      "metadata": {
        "colab": {
          "base_uri": "https://localhost:8080/"
        },
        "id": "L0-RhbfV2hSm",
        "outputId": "e7fa3540-1edb-441c-e50d-b53a601e5b94"
      },
      "execution_count": null,
      "outputs": [
        {
          "output_type": "stream",
          "name": "stdout",
          "text": [
            "5 <class 'str'>\n"
          ]
        }
      ]
    },
    {
      "cell_type": "code",
      "source": [
        "a=\"5\"\n",
        "b=int(a)\n",
        "print(b,type(b))"
      ],
      "metadata": {
        "colab": {
          "base_uri": "https://localhost:8080/"
        },
        "id": "OBM3m_gL6zw3",
        "outputId": "74ae545e-1596-4ac2-9f25-410433e25af8"
      },
      "execution_count": null,
      "outputs": [
        {
          "output_type": "stream",
          "name": "stdout",
          "text": [
            "5 <class 'int'>\n"
          ]
        }
      ]
    },
    {
      "cell_type": "code",
      "source": [
        "a=5\n",
        "b=float(a)\n",
        "print(b,type(b))"
      ],
      "metadata": {
        "colab": {
          "base_uri": "https://localhost:8080/"
        },
        "id": "wc8rcU_n68ty",
        "outputId": "b1a67d45-9da0-4596-adb9-61aefc0f5775"
      },
      "execution_count": null,
      "outputs": [
        {
          "output_type": "stream",
          "name": "stdout",
          "text": [
            "5.0 <class 'float'>\n"
          ]
        }
      ]
    },
    {
      "cell_type": "code",
      "source": [],
      "metadata": {
        "id": "6773pGkiETVe"
      },
      "execution_count": null,
      "outputs": []
    }
  ]
}