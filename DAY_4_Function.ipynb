{
  "nbformat": 4,
  "nbformat_minor": 0,
  "metadata": {
    "colab": {
      "provenance": [],
      "authorship_tag": "ABX9TyOesZTUncZz+9GqlyMcczH/",
      "include_colab_link": true
    },
    "kernelspec": {
      "name": "python3",
      "display_name": "Python 3"
    },
    "language_info": {
      "name": "python"
    }
  },
  "cells": [
    {
      "cell_type": "markdown",
      "metadata": {
        "id": "view-in-github",
        "colab_type": "text"
      },
      "source": [
        "<a href=\"https://colab.research.google.com/github/aswathim3844/python_notes/blob/main/DAY_4_Function.ipynb\" target=\"_parent\"><img src=\"https://colab.research.google.com/assets/colab-badge.svg\" alt=\"Open In Colab\"/></a>"
      ]
    },
    {
      "cell_type": "markdown",
      "source": [
        "#FUNCTIONS\n",
        "---\n",
        "*   to increase reusability\n",
        "*   bulit-in-function,user defined function\n",
        "*   a function should have function body ,if not use pass\n",
        "*   \n",
        "\n",
        "\n",
        "\n",
        "\n",
        "\n",
        "\n",
        "\n",
        "\n"
      ],
      "metadata": {
        "id": "EYrYwdPxsMJN"
      }
    },
    {
      "cell_type": "code",
      "execution_count": null,
      "metadata": {
        "id": "xrNVwfI1qSBy"
      },
      "outputs": [],
      "source": [
        "def function_name():\n",
        "    function_body"
      ]
    },
    {
      "cell_type": "code",
      "source": [
        "def greet():\n",
        "  print(\"hello \")\n",
        "\n",
        "greet()\n",
        "greet()  #static output"
      ],
      "metadata": {
        "colab": {
          "base_uri": "https://localhost:8080/"
        },
        "id": "05-NAqX6tb0y",
        "outputId": "d1aa83ca-6f3a-4976-b72e-fd52348c2e8f"
      },
      "execution_count": null,
      "outputs": [
        {
          "output_type": "stream",
          "name": "stdout",
          "text": [
            "hello \n",
            "hello \n"
          ]
        }
      ]
    },
    {
      "cell_type": "code",
      "source": [
        "def greet():\n",
        "  pass\n",
        "greet()"
      ],
      "metadata": {
        "id": "aw0JV8wMthnC"
      },
      "execution_count": null,
      "outputs": []
    },
    {
      "cell_type": "code",
      "source": [
        "def greet (name):\n",
        "  print(f'hello {name},welcome!')  #argumented fuction\n",
        "\n",
        "greet('aswathi')\n",
        "greet('abhirami')\n",
        "greet(\"salima\")\n"
      ],
      "metadata": {
        "colab": {
          "base_uri": "https://localhost:8080/"
        },
        "id": "BV9hcbzxvDj0",
        "outputId": "4cac2555-1dc0-432b-cc65-c3492a2d0b18"
      },
      "execution_count": null,
      "outputs": [
        {
          "output_type": "stream",
          "name": "stdout",
          "text": [
            "hello aswathi,welcome!\n",
            "hello abhirami,welcome!\n",
            "hello salima,welcome!\n"
          ]
        }
      ]
    },
    {
      "cell_type": "code",
      "source": [
        "def greet (name,choclate):\n",
        "  print(f'hello {name},welcome!,here is the {choclate} for you :)')  #argumented fuction, positional argument\n",
        "\n",
        "greet('aleena','snickers')\n",
        "greet('abhirami','kitkat')\n",
        "greet(\"salima\",'dairy milk')"
      ],
      "metadata": {
        "colab": {
          "base_uri": "https://localhost:8080/"
        },
        "id": "yFeL6QPevfSh",
        "outputId": "24036f2c-41b8-4f33-de9b-2c26a6d03d3c"
      },
      "execution_count": null,
      "outputs": [
        {
          "output_type": "stream",
          "name": "stdout",
          "text": [
            "hello aleena,welcome!,here is the snickers for you :)\n",
            "hello abhirami,welcome!,here is the kitkat for you :)\n",
            "hello salima,welcome!,here is the dairy milk for you :)\n"
          ]
        }
      ]
    },
    {
      "cell_type": "code",
      "source": [
        "#we can set a default argument value also\n",
        "def greet (name,choclate='galaxy'):\n",
        "  print(f'hello {name},welcome!,here is the {choclate} for you :)')  #argumented fuction, positional argument\n",
        "\n",
        "greet('aleena','snickers')\n",
        "greet('abhirami','kitkat')\n",
        "greet(\"salima\",'dairy milk')\n",
        "greet(\"shimna\")"
      ],
      "metadata": {
        "colab": {
          "base_uri": "https://localhost:8080/"
        },
        "id": "fgmiRcUhw0UW",
        "outputId": "f3ebf706-f460-4dcc-bc99-453e12a195e1"
      },
      "execution_count": null,
      "outputs": [
        {
          "output_type": "stream",
          "name": "stdout",
          "text": [
            "hello aleena,welcome!,here is the snickers for you :)\n",
            "hello abhirami,welcome!,here is the kitkat for you :)\n",
            "hello salima,welcome!,here is the dairy milk for you :)\n",
            "hello shimna,welcome!,here is the galaxy for you :)\n"
          ]
        }
      ]
    },
    {
      "cell_type": "code",
      "source": [
        "num1=int(input(\"enter your first number \"))\n",
        "num2=int(input(\"enter your second number \"))\n",
        "\n",
        "def product(num1,num2):\n",
        "  print(num1*num2)\n",
        "\n",
        "product(num1,num2)"
      ],
      "metadata": {
        "colab": {
          "base_uri": "https://localhost:8080/"
        },
        "id": "zE6Qj4qNx38I",
        "outputId": "639a587d-6b50-4c2d-a765-703dacec8806"
      },
      "execution_count": null,
      "outputs": [
        {
          "output_type": "stream",
          "name": "stdout",
          "text": [
            "enter your first number 45\n",
            "enter your second number 15\n",
            "675\n"
          ]
        }
      ]
    },
    {
      "cell_type": "code",
      "source": [
        "def bill(price):\n",
        "  amount=price+(.1*price)\n",
        "  print(f\"your total price is {amount}\")\n",
        "bill(500)\n",
        "bill(200)"
      ],
      "metadata": {
        "colab": {
          "base_uri": "https://localhost:8080/"
        },
        "id": "0VgKSXHIyubJ",
        "outputId": "f75799a0-600c-4acd-cbee-00b88f7b6bdc"
      },
      "execution_count": null,
      "outputs": [
        {
          "output_type": "stream",
          "name": "stdout",
          "text": [
            "your total price is 550.0\n",
            "your total price is 220.0\n"
          ]
        }
      ]
    },
    {
      "cell_type": "code",
      "source": [
        "def bill(price):\n",
        "  if price<2000:\n",
        "    amount=price+(.1*price)\n",
        "  elif price<5000:\n",
        "    amount=price+(.15*price)\n",
        "  else:\n",
        "    amount=price+(.2*price)\n",
        "  print(f\"your total price is {amount}\")\n",
        "\n",
        "bill(1000)\n",
        "bill(2500)\n",
        "bill(5500)\n",
        "\n"
      ],
      "metadata": {
        "colab": {
          "base_uri": "https://localhost:8080/"
        },
        "id": "7MAhxWhJ2ibm",
        "outputId": "ea72b132-6762-4711-f90b-3f9a80a94feb"
      },
      "execution_count": null,
      "outputs": [
        {
          "output_type": "stream",
          "name": "stdout",
          "text": [
            "your total price is 1100.0\n",
            "your total price is 2875.0\n",
            "your total price is 6600.0\n"
          ]
        }
      ]
    },
    {
      "cell_type": "code",
      "source": [
        "num_list =[12,4,5,7,8,13,21]\n",
        "def average_even(numberlist):\n",
        "  even_list=[]\n",
        "  odd_list=[]\n",
        "  for num in numberlist:\n",
        "    if num%2==0:\n",
        "      even_list.append(num)\n",
        "    else :\n",
        "      odd_list.append(num)\n",
        "  even_average=sum(even_list)/len(even_list)\n",
        "  odd_average=sum(odd_list)/len(odd_list)\n",
        "\n",
        "  print(f\"average of odd number is {odd_average} and average of even number is {even_average}\")\n",
        "\n",
        "average_even(num_list)"
      ],
      "metadata": {
        "colab": {
          "base_uri": "https://localhost:8080/"
        },
        "id": "OobV4cCb3nqq",
        "outputId": "efbb5f96-d901-4871-fee9-1c65e1e28494"
      },
      "execution_count": null,
      "outputs": [
        {
          "output_type": "stream",
          "name": "stdout",
          "text": [
            "average of odd number is 11.5 and average of even number is 8.0\n"
          ]
        }
      ]
    },
    {
      "cell_type": "code",
      "source": [
        "#if the number of positional arguments are different\n",
        "# if we are using * tuples\n",
        "\n",
        "\n",
        "def sum_numbers(*value):#arbitary arguments\n",
        "  print(sum(value))\n",
        "\n",
        "sum_numbers(7,8,9,4,3)\n",
        "\n"
      ],
      "metadata": {
        "colab": {
          "base_uri": "https://localhost:8080/"
        },
        "id": "a1Vl0Xs08mIN",
        "outputId": "fccd9f20-f921-43c4-b462-a79ce90f0b1d"
      },
      "execution_count": null,
      "outputs": [
        {
          "output_type": "stream",
          "name": "stdout",
          "text": [
            "31\n"
          ]
        }
      ]
    },
    {
      "cell_type": "code",
      "source": [
        "#if we are using ** then dictionary\n",
        "\n",
        "def print_info(**args): #keyword arguments\n",
        "  for item,value in args.items():\n",
        "   print(f'{item}is {value}')\n",
        "\n",
        "\n",
        "print_info(name=\"alan\",place=\"tvm,\",score=\"6.5\")\n",
        "print_info(age=\"24\",place=\"tvm,\",batch=\"dsa\")"
      ],
      "metadata": {
        "colab": {
          "base_uri": "https://localhost:8080/"
        },
        "id": "J61udF-a__u8",
        "outputId": "a5c7809d-82ac-4e73-fbe1-6385633fb2a1"
      },
      "execution_count": null,
      "outputs": [
        {
          "output_type": "stream",
          "name": "stdout",
          "text": [
            "nameis alan\n",
            "placeis tvm,\n",
            "scoreis 6.5\n",
            "ageis 24\n",
            "placeis tvm,\n",
            "batchis dsa\n"
          ]
        }
      ]
    },
    {
      "cell_type": "markdown",
      "source": [
        "##RETURN\n",
        "A return statement in Python is used to exit a function and send a value back to the code that called it. It's the primary way a function provides a result or output.\n",
        "\n",
        "\n",
        "The core difference is that print() is for outputting data to the console or screen, while return is for outputting data from a function to the program itself.\n",
        "\n",
        "print() is an action.\n",
        " It displays information for you to see.\n",
        "\n",
        "return is a value delivery system. It sends data back from a function so your program can use it.\n",
        "\n",
        "###print() Function\n",
        "\n",
        "The print() function is a built-in Python function that simply displays a message on the screen. It's useful for debugging and showing the user what's happening. The print() function does not affect the program's flow or provide a value that can be stored or manipulated by other parts of the code.\n",
        "\n",
        "Key Characteristics:\n",
        "\n",
        "Purpose: To show output to the user or developer.\n",
        "\n",
        "Action: It writes to the standard output (usually the console).\n",
        "\n",
        "\n",
        "###return Statement\n",
        "\n",
        "\n",
        "The return statement is used inside a function to send a value back to the code that called the function. This returned value can then be stored in a variable, used in another calculation, or passed to another function.\n",
        "\n",
        "Key Characteristics:\n",
        "\n",
        "Purpose: To give a value back to the caller.\n",
        "\n",
        "Action: It exits the function and passes a value.\n",
        "\n",
        "Availability: The returned value is a regular object in Python that can be used like any other.\n",
        "\n",
        "Returned Value: print() itself always returns None."
      ],
      "metadata": {
        "id": "Dh0HsaWZNbXd"
      }
    },
    {
      "cell_type": "code",
      "source": [
        "def totalmark(marks):\n",
        "  return(sum(marks))\n",
        "finalscore =totalmark([10,20,30,40,50,60])\n",
        "if finalscore>=90:\n",
        "   print(\"GRADE A\")\n",
        "elif finalscore >=80:\n",
        "  print(\"GRADE B\")\n",
        "elif finalscore >=70:\n",
        "  print(\"GRADE C\")\n",
        "elif finalscore >=60:\n",
        "  print(\"GRADE D\")\n"
      ],
      "metadata": {
        "colab": {
          "base_uri": "https://localhost:8080/"
        },
        "id": "7HycIoKJNO0I",
        "outputId": "e933c472-e690-44e6-ea87-1104f15c0226"
      },
      "execution_count": null,
      "outputs": [
        {
          "output_type": "stream",
          "name": "stdout",
          "text": [
            "GRADE A\n"
          ]
        }
      ]
    },
    {
      "cell_type": "markdown",
      "source": [],
      "metadata": {
        "id": "7qtIoWtONObR"
      }
    },
    {
      "cell_type": "markdown",
      "source": [
        "#Lambda Function\n",
        "---\n",
        "\n",
        "A lambda function in Python is a small, anonymous function that can have any number of arguments but only one expression. It's often used for short, simple tasks where a full function definition with def is more than you need.\n",
        "\n",
        "Simple Syntax\n",
        "\n",
        "The syntax for a lambda function is:\n",
        "\n",
        "*lambda arguments: expression*\n",
        "\n",
        "> lambda: This keyword is what defines the function as a lambda.\n",
        "\n",
        "arguments: These are the inputs to the function, just like in a regular def function. You can have zero or more arguments, separated by commas.\n",
        "\n",
        "expression: This is a single line of code that is executed and its result is automatically returned. A lambda function cannot contain statements like if, for, or return.\n",
        "\n",
        "\n",
        "\n",
        "\n",
        "\n",
        "\n"
      ],
      "metadata": {
        "id": "khFB-3P0LbZz"
      }
    },
    {
      "cell_type": "code",
      "source": [
        "square =lambda x : x*x\n",
        "square(5)"
      ],
      "metadata": {
        "colab": {
          "base_uri": "https://localhost:8080/"
        },
        "id": "G8a4boqzB08X",
        "outputId": "cde61a3c-e3ed-4449-f0c2-97ff420ce869"
      },
      "execution_count": null,
      "outputs": [
        {
          "output_type": "execute_result",
          "data": {
            "text/plain": [
              "25"
            ]
          },
          "metadata": {},
          "execution_count": 54
        }
      ]
    },
    {
      "cell_type": "code",
      "source": [
        "add= lambda x,y : x+y\n",
        "add(3,5)"
      ],
      "metadata": {
        "colab": {
          "base_uri": "https://localhost:8080/"
        },
        "id": "QhCOaI48Ls4c",
        "outputId": "7f6d5604-a532-414a-ff9a-dee8d4b5298d"
      },
      "execution_count": null,
      "outputs": [
        {
          "output_type": "execute_result",
          "data": {
            "text/plain": [
              "8"
            ]
          },
          "metadata": {},
          "execution_count": 55
        }
      ]
    },
    {
      "cell_type": "code",
      "source": [],
      "metadata": {
        "id": "lkN0a0utMM6V"
      },
      "execution_count": null,
      "outputs": []
    }
  ]
}