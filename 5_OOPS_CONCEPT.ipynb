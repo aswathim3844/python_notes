{
  "nbformat": 4,
  "nbformat_minor": 0,
  "metadata": {
    "colab": {
      "provenance": [],
      "authorship_tag": "ABX9TyNvXgroo0Uq01t69Kj80eSE",
      "include_colab_link": true
    },
    "kernelspec": {
      "name": "python3",
      "display_name": "Python 3"
    },
    "language_info": {
      "name": "python"
    }
  },
  "cells": [
    {
      "cell_type": "markdown",
      "metadata": {
        "id": "view-in-github",
        "colab_type": "text"
      },
      "source": [
        "<a href=\"https://colab.research.google.com/github/aswathim3844/python_notes/blob/main/5_OOPS_CONCEPT.ipynb\" target=\"_parent\"><img src=\"https://colab.research.google.com/assets/colab-badge.svg\" alt=\"Open In Colab\"/></a>"
      ]
    },
    {
      "cell_type": "markdown",
      "source": [
        "#OOPS CONCEPTS"
      ],
      "metadata": {
        "id": "kMijHRD2TrF9"
      }
    },
    {
      "cell_type": "markdown",
      "source": [
        "class :- attributes, methods\n",
        "\n",
        "object/instance\n",
        "\n",
        "inheritance\n",
        "\n",
        "polymorphism\n",
        "\n",
        "encapsulation\n",
        "\n",
        "abstraction\n"
      ],
      "metadata": {
        "id": "cpFfwgNbP_Nc"
      }
    },
    {
      "cell_type": "markdown",
      "source": [
        "Core Concepts of OOP\n",
        "The four main pillars of OOP are encapsulation, abstraction, inheritance, and polymorphism. These principles help you write code that is modular, reusable, and easier to maintain."
      ],
      "metadata": {
        "id": "P6s7qmL2RjtU"
      }
    },
    {
      "cell_type": "markdown",
      "source": [
        "##CLASS\n",
        "---\n",
        "A class is a blueprint for creating objects. It defines the structure and behavior that all objects of that type will have.\n",
        "\n",
        "In simple terms, a class is a template for creating specific instances, which are called objects. It combines related data (attributes) and functions (methods) into a single, logical unit.\n",
        "\n",
        "\n",
        "####Key Components of a Python Class\n",
        "In Python, a class is defined using the class keyword. It typically has the following components:\n",
        "\n",
        "Class Keyword: class followed by the class name (by convention, class names are capitalized).\n",
        "\n",
        "__init__ Method (The Constructor): This is a special method that is automatically called when a new object is created from the class. It's used to initialize the object's attributes. The self parameter refers to the specific instance being created.\n",
        "\n",
        "Attributes (Data): These are variables that belong to a class or its objects. They store the data associated with each object.\n",
        "\n",
        "Instance Attributes: Unique to each object (e.g., self.color, self.brand).\n",
        "\n",
        "Class Attributes: Shared by all objects of the class.\n",
        "\n",
        "Methods (Behavior): These are functions defined inside a class that perform actions. They define what an object can do (e.g., accelerate(), brake()).\n",
        "\n",
        "\n",
        "\n",
        "\n",
        "\n"
      ],
      "metadata": {
        "id": "JTdrA-cMXed2"
      }
    },
    {
      "cell_type": "code",
      "execution_count": null,
      "metadata": {
        "colab": {
          "base_uri": "https://localhost:8080/"
        },
        "id": "X5lypajGP6yd",
        "outputId": "88532730-f142-4447-8432-03d5649e70b3"
      },
      "outputs": [
        {
          "output_type": "stream",
          "name": "stdout",
          "text": [
            "animal barks\n"
          ]
        }
      ],
      "source": [
        "class Animal:\n",
        "  animal_type = \"dog\"\n",
        "  num_legs =4\n",
        "  mammal=\"Yes\"\n",
        "\n",
        "  def sound(self):\n",
        "    print(\"animal barks\")\n",
        "\n",
        "obj1=Animal()\n",
        "obj1.sound()"
      ]
    },
    {
      "cell_type": "markdown",
      "source": [
        "###OBJECT/INSTANCE\n",
        "In Python, an object is a general term for any data structure, while an instance is a more specific term for an object that has been created from a class.\n",
        "\n",
        "Object (The Broadest Term)\n",
        "\n",
        "\n",
        "An object is a fundamental building block in Python. It's a general term for any entity in the program's memory that has a type, an identity (a unique memory address), and a value. Every piece of data in Python is an object, including:\n",
        "\n",
        "Numbers (5, 3.14)\n",
        "\n",
        "Strings (\"hello\")\n",
        "\n",
        "Lists ([1, 2, 3])\n",
        "\n",
        "Functions\n",
        "\n",
        "Classes themselves\n",
        "\n",
        "So, the integer 5 is an object, and the list [1, 2, 3] is an object. They are both concrete \"things\" in your program.\n",
        "\n",
        "Instance (A Specific Kind of Object)\n",
        "An instance is a specific type of object: it is an object that has been created from a class.\n",
        "\n",
        "all instances are objects, but not all objects are instances of a user-defined class.\n",
        "\n",
        "\n",
        "\n",
        "\n"
      ],
      "metadata": {
        "id": "HXxwEPCxKpa5"
      }
    },
    {
      "cell_type": "code",
      "source": [
        "class person:\n",
        "  place=\"tvm\"\n",
        "\n",
        "  def __init__(self,name,age):\n",
        "    self.name=name\n",
        "    self.age=age\n",
        "  def greet(self):\n",
        "    print(f'hi myself {self.name} and my age is {self.age} and i am from{self.place}')\n",
        "obj1=person(\"aswathi\",24)\n",
        "obj1.greet()\n",
        "obj2=person(\"aswin\",23)\n",
        "obj2.greet()"
      ],
      "metadata": {
        "colab": {
          "base_uri": "https://localhost:8080/"
        },
        "id": "7XsJNkGHRxQg",
        "outputId": "43f02421-4fb0-4667-ea46-c70b13c793e5"
      },
      "execution_count": null,
      "outputs": [
        {
          "output_type": "stream",
          "name": "stdout",
          "text": [
            "hi myself aswathi and my age is 24 and i am fromtvm\n",
            "hi myself aswin and my age is 23 and i am fromtvm\n"
          ]
        }
      ]
    },
    {
      "cell_type": "markdown",
      "source": [
        "###SELF KEYWORD\n",
        "---\n",
        "The keyword self in Python is a special reference to the instance of a class. It's the first parameter in any instance method, and it refers to the object on which the method is currently being called."
      ],
      "metadata": {
        "id": "E35AU0b_NaJz"
      }
    },
    {
      "cell_type": "markdown",
      "source": [
        "###CONSTRUCTOR\n",
        "A constructor is a special method in a class that's automatically called when you create a new object (an instance). Its primary job is to initialize the object's attributes with the initial state or values it needs to function.\n",
        "\n",
        "In Python, the constructor is the method named __init__\n"
      ],
      "metadata": {
        "id": "OcfGd-LJOBVC"
      }
    },
    {
      "cell_type": "markdown",
      "source": [
        "###INHERITANCE\n",
        "\n",
        "Inheritance is an Object-Oriented Programming (OOP) concept that allows a new class (a child class) to adopt the attributes and methods of an existing class (a parent class). This lets you reuse and extend code without having to rewrite it from scratch.\n",
        "\n",
        "\n",
        "Real-Life Analogy: Parents and Children 👨‍👩‍👧\n",
        "\n",
        "\n",
        "Think of a family. A child inherits certain traits from their parents, such as eye color, height, and some behaviors. The child also develops their own unique traits and skills.\n",
        "\n",
        "Parent Class (Base Class): The Animal class. It has general attributes like age and species, and general methods like eat().\n",
        "\n",
        "Child Class (Derived Class): The Dog class. It inherits everything from the Animal class. This means a Dog automatically has age and can eat().\n",
        "\n",
        "Unique Traits: The Dog class also has its own specific attribute, like breed, and its own unique method, like bark().\n",
        "\n",
        "\n",
        "This relationship creates a hierarchy where the child class is a more specialized version of the parent class.\n",
        "\n",
        "Inheritance in Python\n",
        "In Python, you specify a parent class by putting its name in parentheses after the child class name. The super() function is often used to call the parent class's methods.\n",
        "\n",
        "The super() keyword in Python is a special function that gives you access to methods and attributes of the parent class from within a child class. Its main purpose is to let a child class extend or override a parent's functionality without having to duplicate code.\n",
        "\n"
      ],
      "metadata": {
        "id": "3P6gYeZ0PA2X"
      }
    },
    {
      "cell_type": "code",
      "source": [
        "class Employee:\n",
        "  def __init__(self,name,emp_id,salary):\n",
        "    self.name =name\n",
        "    self.emp_id=emp_id\n",
        "    self.salary=salary\n",
        "  def display_info(self):\n",
        "    print(f'name is {self.name}')\n",
        "    print(f'emp_id is {self.emp_id}')\n",
        "    print(f'salaryis {self.salary}')\n",
        "class Manager(Employee):\n",
        "  def __init__(self,name,emp_id,salary,dep,teamsize):\n",
        "    super().__init__(name,emp_id,salary)\n",
        "    self.dep=dep\n",
        "    self.teamsize=teamsize\n",
        "  def display_manager_info(self):\n",
        "    self.display_info()\n",
        "    print(f'department :{self.dep}')\n",
        "    print(f'team size :{self.teamsize}')\n",
        "class teamlead(Manager):\n",
        "  def __init__(self,name,emp_id,salary,dep,teamsize,team_job):\n",
        "   super().__init__(name,emp_id,salary,dep,teamsize)\n",
        "   self.team_job=team_job\n",
        "  def display_teamlead_info(self):\n",
        "    self.display_info()\n",
        "    print(f'team job id {self.team_job}')\n",
        "\n",
        "\n",
        "emp1=Employee(\"aswathi\",\"1254\",25000)\n",
        "emp1.display_info()\n",
        "\n",
        "manager1=Manager(\"Aswin\",\"5647\",80000,\"cs\",5)\n",
        "manager1.display_info()\n",
        "\n",
        "teamleads1=teamlead(\"nikhil\",'5684',80000,\"cs\",5,\"correction\")"
      ],
      "metadata": {
        "colab": {
          "base_uri": "https://localhost:8080/"
        },
        "id": "whAMxbk5W1x_",
        "outputId": "1a60bbe0-68d9-4b51-85dd-07870d12a4bb"
      },
      "execution_count": null,
      "outputs": [
        {
          "output_type": "stream",
          "name": "stdout",
          "text": [
            "name is aswathi\n",
            "emp_id is 1254\n",
            "salaryis 25000\n",
            "name is Aswin\n",
            "emp_id is 5647\n",
            "salaryis 80000\n"
          ]
        }
      ]
    },
    {
      "cell_type": "markdown",
      "source": [
        "##1.Encapsulation 💊\n",
        "Simple Term: Bundling data and the methods that operate on that data into a single unit. It also means hiding the internal state of an object from the outside.\n",
        "\n",
        "Analogy: Think of a car's engine. You know how to use the accelerator and the brake to control the car (the public methods). You don't need to know the complex internal mechanics of how the engine works to drive it. The engine's internal parts and processes are encapsulated within the engine block. This prevents you from accidentally messing up the engine by touching a wrong part.\n",
        "\n",
        "In Python: Encapsulation is achieved by using classes to contain both attributes (the data, like speed or color) and methods (the functions, like accelerate() or brake()). We can also use naming conventions (like a single underscore _ or double underscore __) to signal that certain attributes or methods are intended for internal use only.\n",
        "\n",
        "<br>\n",
        "\n",
        "<br>\n",
        "\n",
        "##2. Abstraction 🧠\n",
        "Simple Term: Showing only the essential information while hiding unnecessary details. It's about creating a simple, clean interface for a user to interact with.\n",
        "\n",
        "Analogy: When you use a smartphone, you interact with icons and a touch screen to make a call or open an app. You don't need to understand the underlying code, hardware, or complex electrical signals that make it all happen. The phone abstracts all of that complexity away from you.\n",
        "\n",
        "In Python: Abstraction is about designing classes and methods that have a clear purpose and a simple interface. It's often implemented using abstract classes and abstract methods, which define a template that other classes must follow.\n",
        "\n",
        "<br>\n",
        "\n",
        "<br>\n",
        "\n",
        "##3. Inheritance 👨‍👩‍👧\n",
        "Simple Term: Creating a new class (child) that inherits properties and behaviors from an existing class (parent). This allows for code reuse and establishing a hierarchical relationship between classes.\n",
        "\n",
        "Analogy: A child inherits traits from their parents, such as eye color or hair type. Similarly, a Dog class could inherit from a more general Animal class. The Animal class might have attributes like age and methods like eat(). A Dog class would inherit these but could also have its own specific methods, like bark().\n",
        "\n",
        "In Python: Inheritance is defined using parentheses when creating a class. class Dog(Animal): means Dog is the child class that inherits from the Animal parent class.\n",
        "\n",
        "<br>\n",
        "\n",
        "<br>\n",
        "\n",
        "##4. Polymorphism 🎭\n",
        "Simple Term: The ability for an object to take on many forms. It means that different objects can respond to the same method call in their own way. The method may be called the same, but its behavior depends on the object it's called on.\n",
        "\n",
        "Analogy: The word \"drive\" means something different depending on the context. You \"drive\" a car, you \"drive\" a golf ball, and you \"drive\" a hard bargain. The action is the same, but the implementation is different.\n",
        "\n",
        "In Python: Polymorphism allows you to define a method with the same name in different classes. For example, both a Dog class and a Cat class could have a speak() method, but the Dog's method would make it return \"Woof!\", and the Cat's would make it return \"Meow!\". You can then write code that calls speak() on a list of Animal objects without needing to know their specific type.\n",
        "\n"
      ],
      "metadata": {
        "id": "DQOSsB-jRqfZ"
      }
    },
    {
      "cell_type": "code",
      "source": [
        "\n"
      ],
      "metadata": {
        "id": "Zia5PoPlaXAy"
      },
      "execution_count": null,
      "outputs": []
    }
  ]
}