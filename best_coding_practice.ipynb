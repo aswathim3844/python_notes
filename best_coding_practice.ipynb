{
  "nbformat": 4,
  "nbformat_minor": 0,
  "metadata": {
    "colab": {
      "provenance": [],
      "authorship_tag": "ABX9TyPF3i5TbrIxiiQySl/S6HEn",
      "include_colab_link": true
    },
    "kernelspec": {
      "name": "python3",
      "display_name": "Python 3"
    },
    "language_info": {
      "name": "python"
    }
  },
  "cells": [
    {
      "cell_type": "markdown",
      "metadata": {
        "id": "view-in-github",
        "colab_type": "text"
      },
      "source": [
        "<a href=\"https://colab.research.google.com/github/aswathim3844/python_notes/blob/main/best_coding_practice.ipynb\" target=\"_parent\"><img src=\"https://colab.research.google.com/assets/colab-badge.svg\" alt=\"Open In Colab\"/></a>"
      ]
    },
    {
      "cell_type": "code",
      "source": [
        "def factorial_with_docstring(n):\n",
        "    \"\"\"\n",
        "    Calculates the factorial of a non-negative integer.\n",
        "\n",
        "    This function uses an iterative method to compute the product of\n",
        "    all integers from 1 up to the given number.\n",
        "\n",
        "    Parameters\n",
        "    ----------\n",
        "    n : int\n",
        "        The number to calculate the factorial of. Must be non-negative.\n",
        "\n",
        "    Returns\n",
        "    -------\n",
        "    int\n",
        "        The factorial of the input number.\n",
        "\n",
        "    Raises\n",
        "    ------\n",
        "    ValueError\n",
        "        If the input number is negative.\n",
        "    \"\"\"\n",
        "    if n < 0:\n",
        "        raise ValueError(\"Factorial is not defined for negative numbers\")\n",
        "    result = 1\n",
        "    for i in range(1, n + 1):\n",
        "        result *= i\n",
        "    return result\n",
        "\n",
        "# Calling the function.\n",
        "number = int(input(\"enter a number \"))\n",
        "print(f\"The factorial of {number} is: {factorial_with_docstring(number)}\")"
      ],
      "metadata": {
        "colab": {
          "base_uri": "https://localhost:8080/"
        },
        "id": "zPbYpklNVdvf",
        "outputId": "657fe234-32c5-4cb2-accb-0de7a7f115eb"
      },
      "execution_count": null,
      "outputs": [
        {
          "output_type": "stream",
          "name": "stdout",
          "text": [
            "enter a number 5\n",
            "The factorial of 5 is: 120\n"
          ]
        }
      ]
    },
    {
      "cell_type": "code",
      "source": [
        "# To get the full docstring as a string:\n",
        "print(factorial_with_docstring.__doc__)\n",
        "\n"
      ],
      "metadata": {
        "colab": {
          "base_uri": "https://localhost:8080/"
        },
        "id": "GWFLn8lIjXQV",
        "outputId": "b660ad0b-e1c0-4672-fbea-b8723d30fefa"
      },
      "execution_count": null,
      "outputs": [
        {
          "output_type": "stream",
          "name": "stdout",
          "text": [
            "\n",
            "    Calculates the factorial of a non-negative integer.\n",
            "\n",
            "    This function uses an iterative method to compute the product of\n",
            "    all integers from 1 up to the given number.\n",
            "\n",
            "    Parameters\n",
            "    ----------\n",
            "    n : int\n",
            "        The number to calculate the factorial of. Must be non-negative.\n",
            "\n",
            "    Returns\n",
            "    -------\n",
            "    int\n",
            "        The factorial of the input number.\n",
            "\n",
            "    Raises\n",
            "    ------\n",
            "    ValueError\n",
            "        If the input number is negative.\n",
            "    \n"
          ]
        }
      ]
    },
    {
      "cell_type": "code",
      "source": [
        "# A more user-friendly way to display it is with the built-in help() function:\n",
        "help(factorial_with_docstring)"
      ],
      "metadata": {
        "colab": {
          "base_uri": "https://localhost:8080/"
        },
        "id": "OneXWdF6jjMg",
        "outputId": "77807078-6f7c-4e89-bbdf-7f9785bb9dfb"
      },
      "execution_count": null,
      "outputs": [
        {
          "output_type": "stream",
          "name": "stdout",
          "text": [
            "Help on function factorial_with_docstring in module __main__:\n",
            "\n",
            "factorial_with_docstring(n)\n",
            "    Calculates the factorial of a non-negative integer.\n",
            "    \n",
            "    This function uses an iterative method to compute the product of\n",
            "    all integers from 1 up to the given number.\n",
            "    \n",
            "    Parameters\n",
            "    ----------\n",
            "    n : int\n",
            "        The number to calculate the factorial of. Must be non-negative.\n",
            "    \n",
            "    Returns\n",
            "    -------\n",
            "    int\n",
            "        The factorial of the input number.\n",
            "    \n",
            "    Raises\n",
            "    ------\n",
            "    ValueError\n",
            "        If the input number is negative.\n",
            "\n"
          ]
        }
      ]
    },
    {
      "cell_type": "markdown",
      "source": [
        "#google style"
      ],
      "metadata": {
        "id": "ECndJyu0WJnx"
      }
    },
    {
      "cell_type": "code",
      "source": [
        "def process_data(data):\n",
        "    \"\"\"\n",
        "    Cleans and preprocesses raw data.\n",
        "\n",
        "    Args:\n",
        "        data (DataFrame): The input DataFrame to be processed.\n",
        "\n",
        "    Returns:\n",
        "        DataFrame: A new DataFrame with cleaned data.\n",
        "    \"\"\"\n",
        "    # ... function code ..."
      ],
      "metadata": {
        "id": "xUAxL2k_V0fC"
      },
      "execution_count": null,
      "outputs": []
    },
    {
      "cell_type": "markdown",
      "source": [
        "#numpy style\n"
      ],
      "metadata": {
        "id": "oTWn8VKjWO9D"
      }
    },
    {
      "cell_type": "code",
      "source": [
        "def fit_model(X, y):\n",
        "    \"\"\"\n",
        "    Fits a machine learning model to the provided data.\n",
        "\n",
        "    Parameters\n",
        "    ----------\n",
        "    X : array-like, shape (n_samples, n_features)\n",
        "        Training vectors, where n_samples is the number of samples\n",
        "        and n_features is the number of features.\n",
        "    y : array-like, shape (n_samples,)\n",
        "        Target values.\n",
        "\n",
        "    Returns\n",
        "    -------\n",
        "    Model\n",
        "        The fitted machine learning model object.\n",
        "    \"\"\"\n",
        "    # ... function code ..."
      ],
      "metadata": {
        "id": "TkseJCmRWGW0"
      },
      "execution_count": null,
      "outputs": []
    },
    {
      "cell_type": "code",
      "source": [
        "\"\"\"\n",
        "Student Grade Calculator\n",
        "------------------------\n",
        "This program calculates the average grade of a student based on marks in\n",
        "multiple subjects and determines the corresponding grade category.\n",
        "\n",
        "Usage:\n",
        "    1. Enter marks for each subject (0–100).\n",
        "    2. Program will display the average and the grade.\n",
        "\"\"\"\n",
        "\n",
        "def calculate_average(marks: list[int]) -> float:\n",
        "    \"\"\"\n",
        "    Calculate the average of a list of marks.\n",
        "\n",
        "    Args:\n",
        "        marks (list[int]): A list of integer marks (0–100).\n",
        "\n",
        "    Returns:\n",
        "        float: The average mark.\n",
        "    \"\"\"\n",
        "    return sum(marks) / len(marks)\n",
        "\n",
        "\n",
        "def determine_grade(average: float) -> str:\n",
        "    \"\"\"\n",
        "    Determine the grade category based on the average mark.\n",
        "\n",
        "    Args:\n",
        "        average (float): The average mark.\n",
        "\n",
        "    Returns:\n",
        "        str: The grade category ('A', 'B', 'C', or 'F').\n",
        "    \"\"\"\n",
        "    # Grade boundaries\n",
        "    if average >= 90:\n",
        "        return 'A'\n",
        "    elif average >= 75:\n",
        "        return 'B'\n",
        "    elif average >= 50:\n",
        "        return 'C'\n",
        "    else:\n",
        "        return 'F'\n",
        "\n",
        "\n",
        "# ---- Main Program ----\n",
        "if _name_ == \"_main_\":\n",
        "    # Sample student marks for demonstration\n",
        "    student_marks = [85, 90, 78, 92, 88]\n",
        "\n",
        "    # Calculate average marks\n",
        "    average_marks = calculate_average(student_marks)  # Function call to find average\n",
        "\n",
        "    # Determine grade from average\n",
        "    grade = determine_grade(average_marks)  # Function call to assign grade\n",
        "\n",
        "    # Display results\n",
        "    print(f\"Average Marks: {average_marks:.2f}\")\n",
        "    print(f\"Grade: {grade}\")"
      ],
      "metadata": {
        "id": "2tv3Wv84n0sX",
        "colab": {
          "base_uri": "https://localhost:8080/",
          "height": 211
        },
        "outputId": "7ec4a597-7f37-470d-ca7c-bf13ba07f897"
      },
      "execution_count": null,
      "outputs": [
        {
          "output_type": "error",
          "ename": "NameError",
          "evalue": "name '_name_' is not defined",
          "traceback": [
            "\u001b[0;31m---------------------------------------------------------------------------\u001b[0m",
            "\u001b[0;31mNameError\u001b[0m                                 Traceback (most recent call last)",
            "\u001b[0;32m/tmp/ipython-input-471396669.py\u001b[0m in \u001b[0;36m<cell line: 0>\u001b[0;34m()\u001b[0m\n\u001b[1;32m     45\u001b[0m \u001b[0;34m\u001b[0m\u001b[0m\n\u001b[1;32m     46\u001b[0m \u001b[0;31m# ---- Main Program ----\u001b[0m\u001b[0;34m\u001b[0m\u001b[0;34m\u001b[0m\u001b[0m\n\u001b[0;32m---> 47\u001b[0;31m \u001b[0;32mif\u001b[0m \u001b[0m_name_\u001b[0m \u001b[0;34m==\u001b[0m \u001b[0;34m\"_main_\"\u001b[0m\u001b[0;34m:\u001b[0m\u001b[0;34m\u001b[0m\u001b[0;34m\u001b[0m\u001b[0m\n\u001b[0m\u001b[1;32m     48\u001b[0m     \u001b[0;31m# Sample student marks for demonstration\u001b[0m\u001b[0;34m\u001b[0m\u001b[0;34m\u001b[0m\u001b[0m\n\u001b[1;32m     49\u001b[0m     \u001b[0mstudent_marks\u001b[0m \u001b[0;34m=\u001b[0m \u001b[0;34m[\u001b[0m\u001b[0;36m85\u001b[0m\u001b[0;34m,\u001b[0m \u001b[0;36m90\u001b[0m\u001b[0;34m,\u001b[0m \u001b[0;36m78\u001b[0m\u001b[0;34m,\u001b[0m \u001b[0;36m92\u001b[0m\u001b[0;34m,\u001b[0m \u001b[0;36m88\u001b[0m\u001b[0;34m]\u001b[0m\u001b[0;34m\u001b[0m\u001b[0;34m\u001b[0m\u001b[0m\n",
            "\u001b[0;31mNameError\u001b[0m: name '_name_' is not defined"
          ]
        }
      ]
    },
    {
      "cell_type": "markdown",
      "source": [
        "CODING BEST PRACTICES\n",
        "\n",
        "\n",
        "* REadibilty  \n",
        "*  functions & dry principle\n",
        "*   error handling & validation\n",
        "*   writing pythonic code\n",
        "*   documentation and comment\n",
        "\n",
        "\n",
        "\n",
        "\n",
        "\n",
        "\n"
      ],
      "metadata": {
        "id": "Bqk8xr5I405v"
      }
    },
    {
      "cell_type": "markdown",
      "source": [
        "Readability and PEP 8 are two interconnected but distinct concepts in Python coding. **Readability** is the goal of writing clear, easy-to-understand code, while **PEP 8** is a specific set of rules and guidelines that helps achieve that goal.\n",
        "\n",
        "***\n",
        "\n",
        "### Readability\n",
        "Readability is a subjective but universally valued quality of code. It's about writing code that is straightforward to read and comprehend, not just by the author but by anyone else who needs to work with it.\n",
        "\n",
        "Key aspects of readable code include:\n",
        "* **Clear Naming**: Using descriptive variable, function, and class names (e.g., `calculate_mean` instead of `calc_avg`).\n",
        "* **Logical Structure**: Organizing code in a way that makes sense, such as grouping related functions together or using clear control flow.\n",
        "* **Conciseness**: Avoiding overly verbose or convoluted code.\n",
        "\n",
        "***\n",
        "\n",
        "### PEP 8\n",
        "**PEP 8**, the Python Enhancement Proposal 8, is a formal style guide for Python code. It provides a set of conventions that, when followed, lead to more readable and consistent code across the Python community. Adhering to PEP 8 is a concrete way to improve your code's readability and make it easier for others to collaborate on your projects.\n",
        "\n",
        "Some of the most important rules in PEP 8 include:\n",
        "* **Indentation**: Using **4 spaces** per indentation level.\n",
        "* **Line Length**: Limiting lines to a maximum of **79 characters**.\n",
        "* **Naming Conventions**: Using `snake_case` for functions and variables, and `CamelCase` for classes.\n",
        "* **Whitespace**: Using whitespace consistently around operators and in empty lines to separate logical sections of code.\n",
        "\n",
        "In essence, PEP 8 is a practical framework that enforces a standard style, which in turn fosters better readability. You don't have to follow every single rule, but sticking to the main conventions is considered a best practice in the Python community. 🐍"
      ],
      "metadata": {
        "id": "geIpnm6SY52K"
      }
    },
    {
      "cell_type": "markdown",
      "source": [
        "### Error Handling\n",
        "\n",
        "**Error handling** is the process of anticipating and managing potential errors or exceptions that may occur during program execution. Instead of letting a program crash when something goes wrong, you use error handling to gracefully respond to the problem, log it, or provide a user-friendly message.\n",
        "\n",
        "In Python, this is primarily done using **`try-except` blocks**.\n",
        "\n",
        "```python\n",
        "try:\n",
        "    # Code that might raise an exception\n",
        "    result = 10 / 0\n",
        "except ZeroDivisionError:\n",
        "    # Code that runs if a ZeroDivisionError occurs\n",
        "    print(\"Error: Cannot divide by zero.\")\n",
        "except ValueError:\n",
        "    # Code that runs if a ValueError occurs\n",
        "    print(\"Invalid value.\")\n",
        "else:\n",
        "    # (Optional) Code that runs if no exceptions occurred\n",
        "    print(\"Calculation successful.\")\n",
        "finally:\n",
        "    # (Optional) Code that always runs, regardless of an exception\n",
        "    print(\"Execution complete.\")\n",
        "```\n",
        "\n",
        "-----\n",
        "\n",
        "### Validation\n",
        "\n",
        "**Validation** is the process of ensuring that data meets a set of criteria before it's used by the program. It's a proactive measure to prevent errors from happening in the first place. You perform validation on inputs from users, files, or external APIs to make sure they are in the correct format, type, or range.\n",
        "\n",
        "For example, if a function expects a positive integer, you should validate the input before performing any calculations.\n",
        "\n",
        "```python\n",
        "def process_positive_number(num):\n",
        "    # Validation step to check if the input is a positive integer\n",
        "    if not isinstance(num, int) or num <= 0:\n",
        "        raise ValueError(\"Input must be a positive integer.\")\n",
        "    \n",
        "    # If validation passes, the rest of the function can run\n",
        "    print(f\"Processing number: {num}\")\n",
        "\n",
        "try:\n",
        "    process_positive_number(-5)\n",
        "except ValueError as e:\n",
        "    print(f\"Validation failed: {e}\")\n",
        "```\n",
        "\n",
        "This example shows how validation helps prevent errors before they can cause a crash.\n",
        "\n",
        "-----\n",
        "\n",
        "### Key Difference\n",
        "\n",
        "The main difference is their timing and purpose:\n",
        "\n",
        "  * **Validation** is a **proactive** check on data **before** it's processed, aiming to prevent errors.\n",
        "  * **Error Handling** is a **reactive** response to an **unexpected** problem that occurs **during** execution.\n",
        "\n",
        "Think of it this way: Validation is checking if a cup has a hole before you pour coffee into it. Error handling is what you do if you discover a hole and the coffee spills."
      ],
      "metadata": {
        "id": "BglsqwY1ZKhZ"
      }
    },
    {
      "cell_type": "markdown",
      "source": [
        "Writing \"Pythonic\" code means writing code that aligns with the core principles of the Python language. It's about more than just correctness; it's about following established idioms, conventions, and best practices to produce code that is elegant, readable, and efficient.\n",
        "\n",
        "-----\n",
        "\n",
        "### Key Principles of Pythonic Code\n",
        "\n",
        "1.  **Readability (PEP 8)**: This is the most fundamental aspect. Pythonic code adheres to **PEP 8**, the style guide that promotes consistency and readability. This includes using 4-space indentation, clear variable names (`snake_case`), and limiting line length.\n",
        "\n",
        "2.  **Explicit is Better Than Implicit**: Pythonic code is clear about its intentions. Instead of relying on hidden assumptions, you should write code that is easy to understand without needing a lot of extra comments. For example, explicitly checking for `None` is generally preferred over implicitly relying on a value being \"falsy.\"\n",
        "\n",
        "3.  **Flat is Better Than Nested**: Avoid deeply nested code blocks (e.g., multiple `if` statements or loops inside each other). This makes the code harder to read and debug. Instead, refactor with early `return` statements or helper functions.\n",
        "\n",
        "4.  **Leverage Python's Data Structures and Built-ins**: Python has powerful built-in data structures and functions that are often more efficient and readable than custom implementations.\n",
        "\n",
        "      * **List Comprehensions**: Use list comprehensions for creating lists from other iterables. They are more concise and faster than `for` loops.\n",
        "          * **Pythonic**: `squares = [x*x for x in range(10)]`\n",
        "          * **Non-Pythonic**: `squares = []` and then `for x in range(10): squares.append(x*x)`\n",
        "      * **Generators**: Use generators for large datasets to save memory.\n",
        "      * **Enumerate**: Use `enumerate()` to iterate over a list while also getting the index.\n",
        "      * **`zip()`**: Use `zip()` to iterate over multiple lists simultaneously.\n",
        "\n",
        "5.  **Use Context Managers (The `with` statement)**: For resources like files or database connections, the `with` statement ensures that the resource is properly closed after use, even if an error occurs.\n",
        "\n",
        "      * **Pythonic**:\n",
        "        ```python\n",
        "        with open('data.csv', 'r') as file:\n",
        "            data = file.read()\n",
        "        ```\n",
        "      * **Non-Pythonic**:\n",
        "        ```python\n",
        "        file = open('data.csv', 'r')\n",
        "        data = file.read()\n",
        "        file.close() # Easy to forget this!\n",
        "        ```\n",
        "\n",
        "6.  **EAFP (Easier to Ask for Forgiveness than Permission)**: This is a common Python philosophy, especially for error handling. Instead of checking if a condition is met before performing an action (LBYL - Look Before You Leap), you just try to perform the action and handle any exceptions that arise.\n",
        "\n",
        "      * **Pythonic (EAFP)**:\n",
        "        ```python\n",
        "        try:\n",
        "            value = my_dict['key']\n",
        "        except KeyError:\n",
        "            value = 'default_value'\n",
        "        ```\n",
        "      * **Non-Pythonic (LBYL)**:\n",
        "        ```python\n",
        "        if 'key' in my_dict:\n",
        "            value = my_dict['key']\n",
        "        else:\n",
        "            value = 'default_value'\n",
        "        ```\n",
        "\n",
        "Following these principles will not only make your code more readable but will also make you a more effective and respected developer in the Python community."
      ],
      "metadata": {
        "id": "NSOk7jIbZrMu"
      }
    },
    {
      "cell_type": "markdown",
      "source": [
        "EXERCISES"
      ],
      "metadata": {
        "id": "N_aLyoGtZ0Ci"
      }
    },
    {
      "cell_type": "code",
      "source": [],
      "metadata": {
        "id": "JxJPlVvzZNdq"
      },
      "execution_count": null,
      "outputs": []
    },
    {
      "cell_type": "markdown",
      "source": [],
      "metadata": {
        "id": "0ChAGoxmbWqf"
      }
    },
    {
      "cell_type": "markdown",
      "source": [
        "Question:\n",
        "#The following Python code works correctly but does not follow PEP 8 style guidelines.\n",
        "\n",
        "##Your task is to rewrite it so it follows PEP 8 rules for:\n",
        "\n",
        "##Function naming\n",
        "\n",
        "##Indentation\n",
        "\n",
        "##Spacing\n",
        "\n",
        "##Blank lines\n",
        "\n",
        "##Consistent formatting"
      ],
      "metadata": {
        "id": "Ktzavu0O3cYi"
      }
    },
    {
      "cell_type": "code",
      "execution_count": null,
      "metadata": {
        "id": "AIa07S8b3amR",
        "colab": {
          "base_uri": "https://localhost:8080/"
        },
        "outputId": "14f084a4-21b7-4f52-fd69-b011fc770953"
      },
      "outputs": [
        {
          "output_type": "stream",
          "name": "stdout",
          "text": [
            "Addition result: 8\n",
            "Subtraction result: 6\n",
            "Multiplication result: 16\n",
            "Division result: 5.0\n"
          ]
        }
      ],
      "source": [
        "def  add_two_number( num1,num2 ):\n",
        " return num1 + num2\n",
        "\n",
        "\n",
        "def subtract_two_number(num1,num2):\n",
        "  return num1- num2\n",
        "\n",
        "\n",
        "def multiply_two_number(num1,num2):\n",
        "  return num1 * num2\n",
        "\n",
        "\n",
        "def divide_two_number(num1,num2):\n",
        " if num2!=0:\n",
        "  return num1 / num2\n",
        " else:\n",
        "  return None\n",
        "\n",
        "\n",
        "result1=add_two_number( 5 , 3 )\n",
        "result2=subtract_two_number(10,4)\n",
        "result3 = multiply_two_number(2 , 8)\n",
        "result4=divide_two_number(10 , 2)\n",
        "\n",
        "\n",
        "print( \"Addition result:\",result1 )\n",
        "print(\"Subtraction result:\" ,result2)\n",
        "print( \"Multiplication result:\", result3 )\n",
        "print(\"Division result:\",result4)"
      ]
    },
    {
      "cell_type": "code",
      "source": [
        "def check_even_odd(num):\n",
        "    if num % 2 == 0:\n",
        "        return \"Even\"\n",
        "    else:\n",
        "        return \"Odd\""
      ],
      "metadata": {
        "id": "e109AzZScy92"
      },
      "execution_count": null,
      "outputs": []
    },
    {
      "cell_type": "code",
      "source": [
        "def check_even_odd(num):\n",
        "    return \"Even\" if num % 2 == 0 else \"Odd\""
      ],
      "metadata": {
        "id": "drwFXHGmdQda"
      },
      "execution_count": null,
      "outputs": []
    },
    {
      "cell_type": "code",
      "source": [
        "print(f\"Area of rectangle: {5 * 10}\")\n",
        "print(f\"Area of rectangle: {3 * 8}\")\n",
        "print(f\"Area of rectangle: {6 * 4}\")"
      ],
      "metadata": {
        "colab": {
          "base_uri": "https://localhost:8080/"
        },
        "id": "LBUKqjHHdR78",
        "outputId": "648dea16-c442-4949-bb84-71cd06680300"
      },
      "execution_count": null,
      "outputs": [
        {
          "output_type": "stream",
          "name": "stdout",
          "text": [
            "Area of rectangle: 50\n",
            "Area of rectangle: 24\n",
            "Area of rectangle: 24\n"
          ]
        }
      ]
    },
    {
      "cell_type": "code",
      "source": [
        "def calculate_rectangle_area(length, width):\n",
        "    return length * width\n",
        "\n",
        "print(f\"Area of rectangle: {calculate_rectangle_area(5, 10)}\")\n",
        "print(f\"Area of rectangle: {calculate_rectangle_area(3, 8)}\")\n",
        "print(f\"Area of rectangle: {calculate_rectangle_area(6, 4)}\")"
      ],
      "metadata": {
        "id": "NvL0DXtFdXSM",
        "outputId": "ff7fc676-ef87-410d-9d0f-30b914871893",
        "colab": {
          "base_uri": "https://localhost:8080/"
        }
      },
      "execution_count": null,
      "outputs": [
        {
          "output_type": "stream",
          "name": "stdout",
          "text": [
            "Area of rectangle: 50\n",
            "Area of rectangle: 24\n",
            "Area of rectangle: 24\n"
          ]
        }
      ]
    },
    {
      "cell_type": "code",
      "source": [],
      "metadata": {
        "id": "JO59XW2tdZQR"
      },
      "execution_count": null,
      "outputs": []
    }
  ]
}